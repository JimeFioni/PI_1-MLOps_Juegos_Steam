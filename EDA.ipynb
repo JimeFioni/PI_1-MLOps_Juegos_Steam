{
 "cells": [
  {
   "cell_type": "markdown",
   "metadata": {},
   "source": [
    "## Análisis Exploratorio de Datos EDA"
   ]
  },
  {
   "cell_type": "markdown",
   "metadata": {},
   "source": [
    "Se realiza el Análisis Exploratorio de Datos `EDA` para cada dataset generado a partir del `ETL` en cada uno de los casos. \n",
    "Una vez analizados, se obtendrá una visión más completa para poder decidir cuales serán las features destinadas a entrenar el modelo de recomendación. "
   ]
  },
  {
   "cell_type": "markdown",
   "metadata": {},
   "source": [
    "### Importando librerías"
   ]
  },
  {
   "cell_type": "code",
   "execution_count": 3,
   "metadata": {},
   "outputs": [],
   "source": [
    "import pandas as pd\n",
    "import matplotlib.pyplot as plt\n",
    "import seaborn as sns"
   ]
  },
  {
   "cell_type": "markdown",
   "metadata": {},
   "source": [
    "### 1- EDA de `steam_games.parquet`"
   ]
  },
  {
   "cell_type": "markdown",
   "metadata": {},
   "source": [
    "####  a) Extracción y revisión de nulos y duplicados\n",
    "\n",
    "Se extrae el dataset que se logró luego del ETL"
   ]
  },
  {
   "cell_type": "code",
   "execution_count": 3,
   "metadata": {},
   "outputs": [
    {
     "data": {
      "text/html": [
       "<div>\n",
       "<style scoped>\n",
       "    .dataframe tbody tr th:only-of-type {\n",
       "        vertical-align: middle;\n",
       "    }\n",
       "\n",
       "    .dataframe tbody tr th {\n",
       "        vertical-align: top;\n",
       "    }\n",
       "\n",
       "    .dataframe thead th {\n",
       "        text-align: right;\n",
       "    }\n",
       "</style>\n",
       "<table border=\"1\" class=\"dataframe\">\n",
       "  <thead>\n",
       "    <tr style=\"text-align: right;\">\n",
       "      <th></th>\n",
       "      <th>genres</th>\n",
       "      <th>url</th>\n",
       "      <th>release_date</th>\n",
       "      <th>tags</th>\n",
       "      <th>reviews_url</th>\n",
       "      <th>discount_price</th>\n",
       "      <th>specs</th>\n",
       "      <th>price</th>\n",
       "      <th>early_access</th>\n",
       "      <th>id</th>\n",
       "      <th>metascore</th>\n",
       "      <th>Año_estreno</th>\n",
       "      <th>publisher</th>\n",
       "      <th>app_name</th>\n",
       "      <th>title</th>\n",
       "      <th>developer</th>\n",
       "    </tr>\n",
       "  </thead>\n",
       "  <tbody>\n",
       "    <tr>\n",
       "      <th>0</th>\n",
       "      <td>Action</td>\n",
       "      <td>http://store.steampowered.com/app/761140/Lost_...</td>\n",
       "      <td>2018-01-04</td>\n",
       "      <td>['Strategy', 'Action', 'Indie', 'Casual', 'Sim...</td>\n",
       "      <td>http://steamcommunity.com/app/761140/reviews/?...</td>\n",
       "      <td>4.49</td>\n",
       "      <td>['Single-player']</td>\n",
       "      <td>4.99</td>\n",
       "      <td>False</td>\n",
       "      <td>761140</td>\n",
       "      <td>NaN</td>\n",
       "      <td>2018</td>\n",
       "      <td>Kotoshiro</td>\n",
       "      <td>Lost Summoner Kitty</td>\n",
       "      <td>Lost Summoner Kitty</td>\n",
       "      <td>Kotoshiro</td>\n",
       "    </tr>\n",
       "    <tr>\n",
       "      <th>1</th>\n",
       "      <td>Casual</td>\n",
       "      <td>http://store.steampowered.com/app/761140/Lost_...</td>\n",
       "      <td>2018-01-04</td>\n",
       "      <td>['Strategy', 'Action', 'Indie', 'Casual', 'Sim...</td>\n",
       "      <td>http://steamcommunity.com/app/761140/reviews/?...</td>\n",
       "      <td>4.49</td>\n",
       "      <td>['Single-player']</td>\n",
       "      <td>4.99</td>\n",
       "      <td>False</td>\n",
       "      <td>761140</td>\n",
       "      <td>NaN</td>\n",
       "      <td>2018</td>\n",
       "      <td>Kotoshiro</td>\n",
       "      <td>Lost Summoner Kitty</td>\n",
       "      <td>Lost Summoner Kitty</td>\n",
       "      <td>Kotoshiro</td>\n",
       "    </tr>\n",
       "    <tr>\n",
       "      <th>2</th>\n",
       "      <td>Indie</td>\n",
       "      <td>http://store.steampowered.com/app/761140/Lost_...</td>\n",
       "      <td>2018-01-04</td>\n",
       "      <td>['Strategy', 'Action', 'Indie', 'Casual', 'Sim...</td>\n",
       "      <td>http://steamcommunity.com/app/761140/reviews/?...</td>\n",
       "      <td>4.49</td>\n",
       "      <td>['Single-player']</td>\n",
       "      <td>4.99</td>\n",
       "      <td>False</td>\n",
       "      <td>761140</td>\n",
       "      <td>NaN</td>\n",
       "      <td>2018</td>\n",
       "      <td>Kotoshiro</td>\n",
       "      <td>Lost Summoner Kitty</td>\n",
       "      <td>Lost Summoner Kitty</td>\n",
       "      <td>Kotoshiro</td>\n",
       "    </tr>\n",
       "    <tr>\n",
       "      <th>3</th>\n",
       "      <td>Simulation</td>\n",
       "      <td>http://store.steampowered.com/app/761140/Lost_...</td>\n",
       "      <td>2018-01-04</td>\n",
       "      <td>['Strategy', 'Action', 'Indie', 'Casual', 'Sim...</td>\n",
       "      <td>http://steamcommunity.com/app/761140/reviews/?...</td>\n",
       "      <td>4.49</td>\n",
       "      <td>['Single-player']</td>\n",
       "      <td>4.99</td>\n",
       "      <td>False</td>\n",
       "      <td>761140</td>\n",
       "      <td>NaN</td>\n",
       "      <td>2018</td>\n",
       "      <td>Kotoshiro</td>\n",
       "      <td>Lost Summoner Kitty</td>\n",
       "      <td>Lost Summoner Kitty</td>\n",
       "      <td>Kotoshiro</td>\n",
       "    </tr>\n",
       "    <tr>\n",
       "      <th>4</th>\n",
       "      <td>Strategy</td>\n",
       "      <td>http://store.steampowered.com/app/761140/Lost_...</td>\n",
       "      <td>2018-01-04</td>\n",
       "      <td>['Strategy', 'Action', 'Indie', 'Casual', 'Sim...</td>\n",
       "      <td>http://steamcommunity.com/app/761140/reviews/?...</td>\n",
       "      <td>4.49</td>\n",
       "      <td>['Single-player']</td>\n",
       "      <td>4.99</td>\n",
       "      <td>False</td>\n",
       "      <td>761140</td>\n",
       "      <td>NaN</td>\n",
       "      <td>2018</td>\n",
       "      <td>Kotoshiro</td>\n",
       "      <td>Lost Summoner Kitty</td>\n",
       "      <td>Lost Summoner Kitty</td>\n",
       "      <td>Kotoshiro</td>\n",
       "    </tr>\n",
       "    <tr>\n",
       "      <th>...</th>\n",
       "      <td>...</td>\n",
       "      <td>...</td>\n",
       "      <td>...</td>\n",
       "      <td>...</td>\n",
       "      <td>...</td>\n",
       "      <td>...</td>\n",
       "      <td>...</td>\n",
       "      <td>...</td>\n",
       "      <td>...</td>\n",
       "      <td>...</td>\n",
       "      <td>...</td>\n",
       "      <td>...</td>\n",
       "      <td>...</td>\n",
       "      <td>...</td>\n",
       "      <td>...</td>\n",
       "      <td>...</td>\n",
       "    </tr>\n",
       "    <tr>\n",
       "      <th>71546</th>\n",
       "      <td>Indie</td>\n",
       "      <td>http://store.steampowered.com/app/610660/Russi...</td>\n",
       "      <td>2018-01-04</td>\n",
       "      <td>['Indie', 'Simulation', 'Racing']</td>\n",
       "      <td>http://steamcommunity.com/app/610660/reviews/?...</td>\n",
       "      <td>1.39</td>\n",
       "      <td>['Single-player', 'Steam Achievements', 'Steam...</td>\n",
       "      <td>1.99</td>\n",
       "      <td>False</td>\n",
       "      <td>610660</td>\n",
       "      <td>NaN</td>\n",
       "      <td>2018</td>\n",
       "      <td>Laush Studio</td>\n",
       "      <td>Russian Roads</td>\n",
       "      <td>Russian Roads</td>\n",
       "      <td>Laush Dmitriy Sergeevich</td>\n",
       "    </tr>\n",
       "    <tr>\n",
       "      <th>71547</th>\n",
       "      <td>Racing</td>\n",
       "      <td>http://store.steampowered.com/app/610660/Russi...</td>\n",
       "      <td>2018-01-04</td>\n",
       "      <td>['Indie', 'Simulation', 'Racing']</td>\n",
       "      <td>http://steamcommunity.com/app/610660/reviews/?...</td>\n",
       "      <td>1.39</td>\n",
       "      <td>['Single-player', 'Steam Achievements', 'Steam...</td>\n",
       "      <td>1.99</td>\n",
       "      <td>False</td>\n",
       "      <td>610660</td>\n",
       "      <td>NaN</td>\n",
       "      <td>2018</td>\n",
       "      <td>Laush Studio</td>\n",
       "      <td>Russian Roads</td>\n",
       "      <td>Russian Roads</td>\n",
       "      <td>Laush Dmitriy Sergeevich</td>\n",
       "    </tr>\n",
       "    <tr>\n",
       "      <th>71548</th>\n",
       "      <td>Simulation</td>\n",
       "      <td>http://store.steampowered.com/app/610660/Russi...</td>\n",
       "      <td>2018-01-04</td>\n",
       "      <td>['Indie', 'Simulation', 'Racing']</td>\n",
       "      <td>http://steamcommunity.com/app/610660/reviews/?...</td>\n",
       "      <td>1.39</td>\n",
       "      <td>['Single-player', 'Steam Achievements', 'Steam...</td>\n",
       "      <td>1.99</td>\n",
       "      <td>False</td>\n",
       "      <td>610660</td>\n",
       "      <td>NaN</td>\n",
       "      <td>2018</td>\n",
       "      <td>Laush Studio</td>\n",
       "      <td>Russian Roads</td>\n",
       "      <td>Russian Roads</td>\n",
       "      <td>Laush Dmitriy Sergeevich</td>\n",
       "    </tr>\n",
       "    <tr>\n",
       "      <th>71549</th>\n",
       "      <td>Casual</td>\n",
       "      <td>http://store.steampowered.com/app/658870/EXIT_...</td>\n",
       "      <td>2017-09-02</td>\n",
       "      <td>['Indie', 'Casual', 'Puzzle', 'Singleplayer', ...</td>\n",
       "      <td>http://steamcommunity.com/app/658870/reviews/?...</td>\n",
       "      <td>NaN</td>\n",
       "      <td>['Single-player', 'Steam Achievements', 'Steam...</td>\n",
       "      <td>4.99</td>\n",
       "      <td>False</td>\n",
       "      <td>658870</td>\n",
       "      <td>NaN</td>\n",
       "      <td>2017</td>\n",
       "      <td>SIXNAILS</td>\n",
       "      <td>EXIT 2 - Directions</td>\n",
       "      <td>EXIT 2 - Directions</td>\n",
       "      <td>xropi,stev3ns</td>\n",
       "    </tr>\n",
       "    <tr>\n",
       "      <th>71550</th>\n",
       "      <td>Indie</td>\n",
       "      <td>http://store.steampowered.com/app/658870/EXIT_...</td>\n",
       "      <td>2017-09-02</td>\n",
       "      <td>['Indie', 'Casual', 'Puzzle', 'Singleplayer', ...</td>\n",
       "      <td>http://steamcommunity.com/app/658870/reviews/?...</td>\n",
       "      <td>NaN</td>\n",
       "      <td>['Single-player', 'Steam Achievements', 'Steam...</td>\n",
       "      <td>4.99</td>\n",
       "      <td>False</td>\n",
       "      <td>658870</td>\n",
       "      <td>NaN</td>\n",
       "      <td>2017</td>\n",
       "      <td>SIXNAILS</td>\n",
       "      <td>EXIT 2 - Directions</td>\n",
       "      <td>EXIT 2 - Directions</td>\n",
       "      <td>xropi,stev3ns</td>\n",
       "    </tr>\n",
       "  </tbody>\n",
       "</table>\n",
       "<p>71551 rows × 16 columns</p>\n",
       "</div>"
      ],
      "text/plain": [
       "           genres                                                url  \\\n",
       "0          Action  http://store.steampowered.com/app/761140/Lost_...   \n",
       "1          Casual  http://store.steampowered.com/app/761140/Lost_...   \n",
       "2           Indie  http://store.steampowered.com/app/761140/Lost_...   \n",
       "3      Simulation  http://store.steampowered.com/app/761140/Lost_...   \n",
       "4        Strategy  http://store.steampowered.com/app/761140/Lost_...   \n",
       "...           ...                                                ...   \n",
       "71546       Indie  http://store.steampowered.com/app/610660/Russi...   \n",
       "71547      Racing  http://store.steampowered.com/app/610660/Russi...   \n",
       "71548  Simulation  http://store.steampowered.com/app/610660/Russi...   \n",
       "71549      Casual  http://store.steampowered.com/app/658870/EXIT_...   \n",
       "71550       Indie  http://store.steampowered.com/app/658870/EXIT_...   \n",
       "\n",
       "      release_date                                               tags  \\\n",
       "0       2018-01-04  ['Strategy', 'Action', 'Indie', 'Casual', 'Sim...   \n",
       "1       2018-01-04  ['Strategy', 'Action', 'Indie', 'Casual', 'Sim...   \n",
       "2       2018-01-04  ['Strategy', 'Action', 'Indie', 'Casual', 'Sim...   \n",
       "3       2018-01-04  ['Strategy', 'Action', 'Indie', 'Casual', 'Sim...   \n",
       "4       2018-01-04  ['Strategy', 'Action', 'Indie', 'Casual', 'Sim...   \n",
       "...            ...                                                ...   \n",
       "71546   2018-01-04                  ['Indie', 'Simulation', 'Racing']   \n",
       "71547   2018-01-04                  ['Indie', 'Simulation', 'Racing']   \n",
       "71548   2018-01-04                  ['Indie', 'Simulation', 'Racing']   \n",
       "71549   2017-09-02  ['Indie', 'Casual', 'Puzzle', 'Singleplayer', ...   \n",
       "71550   2017-09-02  ['Indie', 'Casual', 'Puzzle', 'Singleplayer', ...   \n",
       "\n",
       "                                             reviews_url  discount_price  \\\n",
       "0      http://steamcommunity.com/app/761140/reviews/?...            4.49   \n",
       "1      http://steamcommunity.com/app/761140/reviews/?...            4.49   \n",
       "2      http://steamcommunity.com/app/761140/reviews/?...            4.49   \n",
       "3      http://steamcommunity.com/app/761140/reviews/?...            4.49   \n",
       "4      http://steamcommunity.com/app/761140/reviews/?...            4.49   \n",
       "...                                                  ...             ...   \n",
       "71546  http://steamcommunity.com/app/610660/reviews/?...            1.39   \n",
       "71547  http://steamcommunity.com/app/610660/reviews/?...            1.39   \n",
       "71548  http://steamcommunity.com/app/610660/reviews/?...            1.39   \n",
       "71549  http://steamcommunity.com/app/658870/reviews/?...             NaN   \n",
       "71550  http://steamcommunity.com/app/658870/reviews/?...             NaN   \n",
       "\n",
       "                                                   specs  price  early_access  \\\n",
       "0                                      ['Single-player']   4.99         False   \n",
       "1                                      ['Single-player']   4.99         False   \n",
       "2                                      ['Single-player']   4.99         False   \n",
       "3                                      ['Single-player']   4.99         False   \n",
       "4                                      ['Single-player']   4.99         False   \n",
       "...                                                  ...    ...           ...   \n",
       "71546  ['Single-player', 'Steam Achievements', 'Steam...   1.99         False   \n",
       "71547  ['Single-player', 'Steam Achievements', 'Steam...   1.99         False   \n",
       "71548  ['Single-player', 'Steam Achievements', 'Steam...   1.99         False   \n",
       "71549  ['Single-player', 'Steam Achievements', 'Steam...   4.99         False   \n",
       "71550  ['Single-player', 'Steam Achievements', 'Steam...   4.99         False   \n",
       "\n",
       "           id  metascore Año_estreno     publisher             app_name  \\\n",
       "0      761140        NaN        2018     Kotoshiro  Lost Summoner Kitty   \n",
       "1      761140        NaN        2018     Kotoshiro  Lost Summoner Kitty   \n",
       "2      761140        NaN        2018     Kotoshiro  Lost Summoner Kitty   \n",
       "3      761140        NaN        2018     Kotoshiro  Lost Summoner Kitty   \n",
       "4      761140        NaN        2018     Kotoshiro  Lost Summoner Kitty   \n",
       "...       ...        ...         ...           ...                  ...   \n",
       "71546  610660        NaN        2018  Laush Studio        Russian Roads   \n",
       "71547  610660        NaN        2018  Laush Studio        Russian Roads   \n",
       "71548  610660        NaN        2018  Laush Studio        Russian Roads   \n",
       "71549  658870        NaN        2017      SIXNAILS  EXIT 2 - Directions   \n",
       "71550  658870        NaN        2017      SIXNAILS  EXIT 2 - Directions   \n",
       "\n",
       "                     title                 developer  \n",
       "0      Lost Summoner Kitty                 Kotoshiro  \n",
       "1      Lost Summoner Kitty                 Kotoshiro  \n",
       "2      Lost Summoner Kitty                 Kotoshiro  \n",
       "3      Lost Summoner Kitty                 Kotoshiro  \n",
       "4      Lost Summoner Kitty                 Kotoshiro  \n",
       "...                    ...                       ...  \n",
       "71546        Russian Roads  Laush Dmitriy Sergeevich  \n",
       "71547        Russian Roads  Laush Dmitriy Sergeevich  \n",
       "71548        Russian Roads  Laush Dmitriy Sergeevich  \n",
       "71549  EXIT 2 - Directions             xropi,stev3ns  \n",
       "71550  EXIT 2 - Directions             xropi,stev3ns  \n",
       "\n",
       "[71551 rows x 16 columns]"
      ]
     },
     "execution_count": 3,
     "metadata": {},
     "output_type": "execute_result"
    }
   ],
   "source": [
    "df_games= pd.read_parquet(\"data/steam_games.parquet\")\n",
    "df_games"
   ]
  },
  {
   "cell_type": "code",
   "execution_count": 4,
   "metadata": {},
   "outputs": [
    {
     "name": "stdout",
     "output_type": "stream",
     "text": [
      "<class 'pandas.core.frame.DataFrame'>\n",
      "RangeIndex: 71551 entries, 0 to 71550\n",
      "Data columns (total 16 columns):\n",
      " #   Column          Non-Null Count  Dtype  \n",
      "---  ------          --------------  -----  \n",
      " 0   genres          71551 non-null  object \n",
      " 1   url             71551 non-null  object \n",
      " 2   release_date    71498 non-null  object \n",
      " 3   tags            71505 non-null  object \n",
      " 4   reviews_url     71551 non-null  object \n",
      " 5   discount_price  580 non-null    float64\n",
      " 6   specs           70994 non-null  object \n",
      " 7   price           71551 non-null  float64\n",
      " 8   early_access    71551 non-null  bool   \n",
      " 9   id              71551 non-null  int64  \n",
      " 10  metascore       5365 non-null   float64\n",
      " 11  Año_estreno     71551 non-null  object \n",
      " 12  publisher       71504 non-null  object \n",
      " 13  app_name        71551 non-null  object \n",
      " 14  title           71551 non-null  object \n",
      " 15  developer       71551 non-null  object \n",
      "dtypes: bool(1), float64(3), int64(1), object(11)\n",
      "memory usage: 8.3+ MB\n"
     ]
    }
   ],
   "source": [
    "#se informa la cantidad de columnas y el tipo de dato que contiene \n",
    "df_games.info()"
   ]
  },
  {
   "cell_type": "markdown",
   "metadata": {},
   "source": [
    "Contabilizamos los datos nulos por columnas"
   ]
  },
  {
   "cell_type": "code",
   "execution_count": 5,
   "metadata": {},
   "outputs": [
    {
     "data": {
      "text/plain": [
       "genres                0\n",
       "url                   0\n",
       "release_date         53\n",
       "tags                 46\n",
       "reviews_url           0\n",
       "discount_price    70971\n",
       "specs               557\n",
       "price                 0\n",
       "early_access          0\n",
       "id                    0\n",
       "metascore         66186\n",
       "Año_estreno           0\n",
       "publisher            47\n",
       "app_name              0\n",
       "title                 0\n",
       "developer             0\n",
       "dtype: int64"
      ]
     },
     "execution_count": 5,
     "metadata": {},
     "output_type": "execute_result"
    }
   ],
   "source": [
    "df_games.isnull().sum()"
   ]
  },
  {
   "cell_type": "markdown",
   "metadata": {},
   "source": [
    "#### Tratamiento de nulos\n",
    "Las columnas `discount_price` y `metascore`, se eliminan por contener gran cantidad de nulos y no aportar al modelo"
   ]
  },
  {
   "cell_type": "code",
   "execution_count": 7,
   "metadata": {},
   "outputs": [
    {
     "data": {
      "text/html": [
       "<div>\n",
       "<style scoped>\n",
       "    .dataframe tbody tr th:only-of-type {\n",
       "        vertical-align: middle;\n",
       "    }\n",
       "\n",
       "    .dataframe tbody tr th {\n",
       "        vertical-align: top;\n",
       "    }\n",
       "\n",
       "    .dataframe thead th {\n",
       "        text-align: right;\n",
       "    }\n",
       "</style>\n",
       "<table border=\"1\" class=\"dataframe\">\n",
       "  <thead>\n",
       "    <tr style=\"text-align: right;\">\n",
       "      <th></th>\n",
       "      <th>genres</th>\n",
       "      <th>url</th>\n",
       "      <th>release_date</th>\n",
       "      <th>tags</th>\n",
       "      <th>reviews_url</th>\n",
       "      <th>specs</th>\n",
       "      <th>price</th>\n",
       "      <th>early_access</th>\n",
       "      <th>id</th>\n",
       "      <th>Año_estreno</th>\n",
       "      <th>publisher</th>\n",
       "      <th>app_name</th>\n",
       "      <th>title</th>\n",
       "      <th>developer</th>\n",
       "    </tr>\n",
       "  </thead>\n",
       "  <tbody>\n",
       "    <tr>\n",
       "      <th>0</th>\n",
       "      <td>Action</td>\n",
       "      <td>http://store.steampowered.com/app/761140/Lost_...</td>\n",
       "      <td>2018-01-04</td>\n",
       "      <td>['Strategy', 'Action', 'Indie', 'Casual', 'Sim...</td>\n",
       "      <td>http://steamcommunity.com/app/761140/reviews/?...</td>\n",
       "      <td>['Single-player']</td>\n",
       "      <td>4.99</td>\n",
       "      <td>False</td>\n",
       "      <td>761140</td>\n",
       "      <td>2018</td>\n",
       "      <td>Kotoshiro</td>\n",
       "      <td>Lost Summoner Kitty</td>\n",
       "      <td>Lost Summoner Kitty</td>\n",
       "      <td>Kotoshiro</td>\n",
       "    </tr>\n",
       "    <tr>\n",
       "      <th>1</th>\n",
       "      <td>Casual</td>\n",
       "      <td>http://store.steampowered.com/app/761140/Lost_...</td>\n",
       "      <td>2018-01-04</td>\n",
       "      <td>['Strategy', 'Action', 'Indie', 'Casual', 'Sim...</td>\n",
       "      <td>http://steamcommunity.com/app/761140/reviews/?...</td>\n",
       "      <td>['Single-player']</td>\n",
       "      <td>4.99</td>\n",
       "      <td>False</td>\n",
       "      <td>761140</td>\n",
       "      <td>2018</td>\n",
       "      <td>Kotoshiro</td>\n",
       "      <td>Lost Summoner Kitty</td>\n",
       "      <td>Lost Summoner Kitty</td>\n",
       "      <td>Kotoshiro</td>\n",
       "    </tr>\n",
       "  </tbody>\n",
       "</table>\n",
       "</div>"
      ],
      "text/plain": [
       "   genres                                                url release_date  \\\n",
       "0  Action  http://store.steampowered.com/app/761140/Lost_...   2018-01-04   \n",
       "1  Casual  http://store.steampowered.com/app/761140/Lost_...   2018-01-04   \n",
       "\n",
       "                                                tags  \\\n",
       "0  ['Strategy', 'Action', 'Indie', 'Casual', 'Sim...   \n",
       "1  ['Strategy', 'Action', 'Indie', 'Casual', 'Sim...   \n",
       "\n",
       "                                         reviews_url              specs  \\\n",
       "0  http://steamcommunity.com/app/761140/reviews/?...  ['Single-player']   \n",
       "1  http://steamcommunity.com/app/761140/reviews/?...  ['Single-player']   \n",
       "\n",
       "   price  early_access      id Año_estreno  publisher             app_name  \\\n",
       "0   4.99         False  761140        2018  Kotoshiro  Lost Summoner Kitty   \n",
       "1   4.99         False  761140        2018  Kotoshiro  Lost Summoner Kitty   \n",
       "\n",
       "                 title  developer  \n",
       "0  Lost Summoner Kitty  Kotoshiro  \n",
       "1  Lost Summoner Kitty  Kotoshiro  "
      ]
     },
     "execution_count": 7,
     "metadata": {},
     "output_type": "execute_result"
    }
   ],
   "source": [
    "df_games.drop(columns=[\"discount_price\", \"metascore\"], axis=1, inplace=True)\n",
    "df_games.head(2)"
   ]
  },
  {
   "cell_type": "markdown",
   "metadata": {},
   "source": [
    "Se modifican los nombres de las columnas para mejorar la comprensión y buena práctica "
   ]
  },
  {
   "cell_type": "code",
   "execution_count": 9,
   "metadata": {},
   "outputs": [
    {
     "data": {
      "text/plain": [
       "Index(['genres', 'url', 'release_date', 'tags', 'reviews_url', 'specs',\n",
       "       'price', 'early_access', 'item_id', 'release_anio', 'publisher',\n",
       "       'app_name', 'title', 'developer'],\n",
       "      dtype='object')"
      ]
     },
     "execution_count": 9,
     "metadata": {},
     "output_type": "execute_result"
    }
   ],
   "source": [
    "df_games= df_games.rename(columns={\"id\":\"item_id\", \"Año_estreno\": \"release_anio\"})\n",
    "df_games.columns"
   ]
  },
  {
   "cell_type": "markdown",
   "metadata": {},
   "source": [
    "#### b) Tratamiento Variables categóricas"
   ]
  },
  {
   "cell_type": "markdown",
   "metadata": {},
   "source": [
    "* **genres** : genero del juego\n",
    "* **item_id**: identificador único del juego\n",
    "* **release_anio**: año en que se estreno\n",
    "* **publisher**: editor del juego\n",
    "* **app_name**: nombre de la aplicación\n",
    "* **title**: nombre del juego \n",
    "* **developer**: desarrollador"
   ]
  },
  {
   "cell_type": "markdown",
   "metadata": {},
   "source": [
    "#### Feature `genres`"
   ]
  },
  {
   "cell_type": "code",
   "execution_count": 19,
   "metadata": {},
   "outputs": [
    {
     "data": {
      "text/plain": [
       "<bound method Series.to_frame of genres\n",
       "Indie                        15858\n",
       "Action                       11319\n",
       "Casual                        8282\n",
       "Adventure                     8242\n",
       "Strategy                      6957\n",
       "Simulation                    6699\n",
       "RPG                           5479\n",
       "Free to Play                  2031\n",
       "Early Access                  1462\n",
       "Sports                        1257\n",
       "Massively Multiplayer         1108\n",
       "Racing                        1083\n",
       "Design &amp; Illustration      460\n",
       "Utilities                      340\n",
       "Web Publishing                 268\n",
       "Animation &amp; Modeling       183\n",
       "Education                      125\n",
       "Video Production               116\n",
       "Software Training              105\n",
       "Audio Production                93\n",
       "Photo Editing                   77\n",
       "Accounting                       7\n",
       "Name: count, dtype: int64>"
      ]
     },
     "execution_count": 19,
     "metadata": {},
     "output_type": "execute_result"
    }
   ],
   "source": [
    "#se contabilizan los diferentes generos de juegos Steam\n",
    "cantidad_generos= df_games[\"genres\"].value_counts()\n",
    "cantidad_generos.to_frame"
   ]
  },
  {
   "cell_type": "code",
   "execution_count": 20,
   "metadata": {},
   "outputs": [
    {
     "name": "stderr",
     "output_type": "stream",
     "text": [
      "e:\\JIME\\Desktop\\PI_1-MLOps_Juegos_Steam\\env\\Lib\\site-packages\\seaborn\\_oldcore.py:1498: FutureWarning: is_categorical_dtype is deprecated and will be removed in a future version. Use isinstance(dtype, CategoricalDtype) instead\n",
      "  if pd.api.types.is_categorical_dtype(vector):\n",
      "e:\\JIME\\Desktop\\PI_1-MLOps_Juegos_Steam\\env\\Lib\\site-packages\\seaborn\\_oldcore.py:1498: FutureWarning: is_categorical_dtype is deprecated and will be removed in a future version. Use isinstance(dtype, CategoricalDtype) instead\n",
      "  if pd.api.types.is_categorical_dtype(vector):\n",
      "e:\\JIME\\Desktop\\PI_1-MLOps_Juegos_Steam\\env\\Lib\\site-packages\\seaborn\\_oldcore.py:1498: FutureWarning: is_categorical_dtype is deprecated and will be removed in a future version. Use isinstance(dtype, CategoricalDtype) instead\n",
      "  if pd.api.types.is_categorical_dtype(vector):\n"
     ]
    },
    {
     "data": {
      "image/png": "[encoded data removed]",
      "text/plain": [
       "<Figure size 600x400 with 1 Axes>"
      ]
     },
     "metadata": {},
     "output_type": "display_data"
    }
   ],
   "source": [
    "plt.figure(figsize=(6, 4))\n",
    "sns.countplot(data=df_games, y='genres', orient='h', palette=(\"cubehelix\"))\n",
    "plt.show()"
   ]
  },
  {
   "cell_type": "markdown",
   "metadata": {},
   "source": [
    "**Conclusión**\n",
    "\n",
    "- Los generos que mayor cantidad de veces se repiten son `Indie`,`Action`, `Casual` y `Adventure`\n",
    "- Se muestra en la columna `tags`, que un mismo genero puede tener varios a la vez."
   ]
  },
  {
   "cell_type": "markdown",
   "metadata": {},
   "source": [
    "#### Feature `item_id`"
   ]
  },
  {
   "cell_type": "code",
   "execution_count": 21,
   "metadata": {},
   "outputs": [
    {
     "data": {
      "text/plain": [
       "28850"
      ]
     },
     "execution_count": 21,
     "metadata": {},
     "output_type": "execute_result"
    }
   ],
   "source": [
    "# se contabiliza la cantidad de juegos Steam que hay en la plataforma \n",
    "cantidad_juegos= len(df_games[\"item_id\"].unique())\n",
    "cantidad_juegos"
   ]
  },
  {
   "cell_type": "markdown",
   "metadata": {},
   "source": [
    "**Conclusión**\n",
    "- La plataforma de juegos Steam contiene 28850 `item_id`, es decir cantidad de titulos o juegos"
   ]
  },
  {
   "cell_type": "markdown",
   "metadata": {},
   "source": [
    "#### Feature `release_anio`"
   ]
  },
  {
   "cell_type": "code",
   "execution_count": 58,
   "metadata": {},
   "outputs": [
    {
     "data": {
      "text/plain": [
       "release_anio\n",
       "2017        25199\n",
       "2016        17693\n",
       "2015        12272\n",
       "2014         6367\n",
       "2013         3017\n",
       "2012         2107\n",
       "2011          987\n",
       "2010          663\n",
       "2018          499\n",
       "2009          492\n",
       "sin dato      338\n",
       "2008          332\n",
       "2007          259\n",
       "2006          217\n",
       "2005          139\n",
       "2003          118\n",
       "2001          109\n",
       "2004           92\n",
       "1999           80\n",
       "1998           75\n",
       "1997           64\n",
       "2002           62\n",
       "1996           56\n",
       "2000           55\n",
       "1994           52\n",
       "1995           49\n",
       "1993           40\n",
       "1992           24\n",
       "1991           22\n",
       "1990           14\n",
       "2019           13\n",
       "1989           11\n",
       "1988            9\n",
       "1984            5\n",
       "1987            5\n",
       "1986            5\n",
       "2021            3\n",
       "5275            3\n",
       "1983            3\n",
       "1985            1\n",
       "Name: count, dtype: int64"
      ]
     },
     "execution_count": 58,
     "metadata": {},
     "output_type": "execute_result"
    }
   ],
   "source": [
    "#se contabilizan los diferentes juegos Steam estrenados por año\n",
    "cantidad_juegos_anios= df_games[\"release_anio\"].value_counts()\n",
    "\n",
    "cantidad_juegos_anios"
   ]
  },
  {
   "cell_type": "code",
   "execution_count": 59,
   "metadata": {},
   "outputs": [],
   "source": [
    "#se elimina fila con un dato mal cargado, que genera distorsión en el análisis\n",
    "año= \"5275\"\n",
    "cantidad_juegos_anios=cantidad_juegos_anios.drop(año)"
   ]
  },
  {
   "cell_type": "code",
   "execution_count": 60,
   "metadata": {},
   "outputs": [
    {
     "data": {
      "text/plain": [
       "release_anio\n",
       "2017        25199\n",
       "2016        17693\n",
       "2015        12272\n",
       "2014         6367\n",
       "2013         3017\n",
       "2012         2107\n",
       "2011          987\n",
       "2010          663\n",
       "2018          499\n",
       "2009          492\n",
       "sin dato      338\n",
       "2008          332\n",
       "2007          259\n",
       "2006          217\n",
       "2005          139\n",
       "2003          118\n",
       "2001          109\n",
       "2004           92\n",
       "1999           80\n",
       "1998           75\n",
       "1997           64\n",
       "2002           62\n",
       "1996           56\n",
       "2000           55\n",
       "1994           52\n",
       "1995           49\n",
       "1993           40\n",
       "1992           24\n",
       "1991           22\n",
       "1990           14\n",
       "2019           13\n",
       "1989           11\n",
       "1988            9\n",
       "1984            5\n",
       "1987            5\n",
       "1986            5\n",
       "2021            3\n",
       "1983            3\n",
       "1985            1\n",
       "Name: count, dtype: int64"
      ]
     },
     "execution_count": 60,
     "metadata": {},
     "output_type": "execute_result"
    }
   ],
   "source": [
    "cantidad_juegos_anios"
   ]
  },
  {
   "cell_type": "code",
   "execution_count": 61,
   "metadata": {},
   "outputs": [
    {
     "name": "stderr",
     "output_type": "stream",
     "text": [
      "e:\\JIME\\Desktop\\PI_1-MLOps_Juegos_Steam\\env\\Lib\\site-packages\\seaborn\\_oldcore.py:1498: FutureWarning: is_categorical_dtype is deprecated and will be removed in a future version. Use isinstance(dtype, CategoricalDtype) instead\n",
      "  if pd.api.types.is_categorical_dtype(vector):\n",
      "e:\\JIME\\Desktop\\PI_1-MLOps_Juegos_Steam\\env\\Lib\\site-packages\\seaborn\\_oldcore.py:1498: FutureWarning: is_categorical_dtype is deprecated and will be removed in a future version. Use isinstance(dtype, CategoricalDtype) instead\n",
      "  if pd.api.types.is_categorical_dtype(vector):\n",
      "e:\\JIME\\Desktop\\PI_1-MLOps_Juegos_Steam\\env\\Lib\\site-packages\\seaborn\\_oldcore.py:1498: FutureWarning: is_categorical_dtype is deprecated and will be removed in a future version. Use isinstance(dtype, CategoricalDtype) instead\n",
      "  if pd.api.types.is_categorical_dtype(vector):\n"
     ]
    },
    {
     "data": {
      "image/png": "[encoded data removed]",
      "text/plain": [
       "<Figure size 1400x500 with 1 Axes>"
      ]
     },
     "metadata": {},
     "output_type": "display_data"
    }
   ],
   "source": [
    "#ordeno el dataframe para poder graficar\n",
    "\n",
    "cantidad_juegos_anios = cantidad_juegos_anios.reindex([\"sin dato\"] + list(cantidad_juegos_anios.index))\n",
    "\n",
    "cantidad_juegos_anios= cantidad_juegos_anios.sort_index()\n",
    "\n",
    "plt.figure(figsize=(14, 5))\n",
    "\n",
    "sns.barplot(x=cantidad_juegos_anios.index, y=cantidad_juegos_anios.values, palette=(\"Set2\"))\n",
    "plt.xlabel('Año de Estreno') ; plt.ylabel('Cantidad de Juegos') ; plt.title('Cantidad de Juegos por Año de Estreno')\n",
    "plt.xticks(rotation=45, ha='right')\n",
    "plt.tight_layout()\n",
    "plt.show()"
   ]
  },
  {
   "cell_type": "markdown",
   "metadata": {},
   "source": [
    "**Conclusión**\n",
    " - Se concentran los estrenos de juegos en la plataforma Steam, entre loa años 2003 incrementandose en gran cantidad hasta el año 2017; luego decaen los registros.\n",
    " \n",
    " - El año de mayor cantidad de juegos estrenados fue 2017"
   ]
  },
  {
   "cell_type": "markdown",
   "metadata": {},
   "source": [
    "#### Feature `publisher` y `developer`"
   ]
  },
  {
   "cell_type": "code",
   "execution_count": 69,
   "metadata": {},
   "outputs": [],
   "source": [
    "# obtengo la cantidad de uegos publicados por editores y desarrolladores \n",
    "developer= df_games[\"developer\"].value_counts()\n",
    "\n",
    "publisher= df_games[\"publisher\"].value_counts()"
   ]
  },
  {
   "cell_type": "code",
   "execution_count": 70,
   "metadata": {},
   "outputs": [
    {
     "data": {
      "text/plain": [
       "developer\n",
       "Ubisoft - San Francisco                                                             2516\n",
       "SmiteWorks USA, LLC                                                                 2364\n",
       "DL Softworks                                                                         495\n",
       "Ronimo Games                                                                         379\n",
       "Sin Datos                                                                            350\n",
       "                                                                                    ... \n",
       "Viron Shake                                                                            1\n",
       "Fewjix                                                                                 1\n",
       "Kyuppin                                                                                1\n",
       "NHLislive                                                                              1\n",
       "Evan Hatampour,K.Song Tan,Anton Kagounkin Magdalina,Stuart Hwang,Mike VanPeursem       1\n",
       "Name: count, Length: 10964, dtype: int64"
      ]
     },
     "execution_count": 70,
     "metadata": {},
     "output_type": "execute_result"
    }
   ],
   "source": [
    "developer"
   ]
  },
  {
   "cell_type": "code",
   "execution_count": 71,
   "metadata": {},
   "outputs": [
    {
     "data": {
      "text/plain": [
       "publisher\n",
       "Sin Datos                  12439\n",
       "KISS ltd                     807\n",
       "Ubisoft                      684\n",
       "Degica                       528\n",
       "Paradox Interactive          441\n",
       "                           ...  \n",
       "Nurgo Software                 1\n",
       "Ubisoft - San Francisco        1\n",
       "Marcos Dumont                  1\n",
       "Ready Play Games               1\n",
       "PyrofrogStudos                 1\n",
       "Name: count, Length: 8224, dtype: int64"
      ]
     },
     "execution_count": 71,
     "metadata": {},
     "output_type": "execute_result"
    }
   ],
   "source": [
    "publisher"
   ]
  },
  {
   "cell_type": "code",
   "execution_count": 72,
   "metadata": {},
   "outputs": [
    {
     "data": {
      "image/png": "[encoded data removed]",
      "text/plain": [
       "<Figure size 1200x500 with 2 Axes>"
      ]
     },
     "metadata": {},
     "output_type": "display_data"
    }
   ],
   "source": [
    "# Crear una figura con dos subplots uno al lado del otro\n",
    "plt.figure(figsize=(12, 5))\n",
    "\n",
    "# Primer subplot para los publishers\n",
    "plt.subplot(1, 2, 1)\n",
    "developer[:10].plot(kind='bar', color='pink')\n",
    "plt.xlabel('Developer') ; plt.ylabel('Cantidad de Juegos') ; plt.title('Top 10 Developers')\n",
    "\n",
    "# Segundo subplot para los developers\n",
    "plt.subplot(1, 2, 2)\n",
    "publisher[:10].plot(kind='bar', color='green')\n",
    "plt.xlabel('Publisher') ; plt.ylabel('Cantidad de Juegos') ; plt.title('Top 10 Publishers')\n",
    "\n",
    "# Muestra y ajustar el espaciado entre subplots\n",
    "plt.tight_layout()\n",
    "plt.show()"
   ]
  },
  {
   "cell_type": "markdown",
   "metadata": {},
   "source": [
    "**Conclusión**\n",
    "- Los mayores desarrolladores de juegos Steam son Ubisoft y SmiteWorks\n",
    "- La mayor cantidad de juegos no poseen el dato del Editor"
   ]
  },
  {
   "cell_type": "markdown",
   "metadata": {},
   "source": [
    "#### c) Tratamiento Variables numéricas"
   ]
  },
  {
   "cell_type": "markdown",
   "metadata": {},
   "source": [
    "* **price**: precio del juego en la plataforma"
   ]
  },
  {
   "cell_type": "markdown",
   "metadata": {},
   "source": [
    "#### Feature `price`"
   ]
  },
  {
   "cell_type": "markdown",
   "metadata": {},
   "source": [
    "Tratamiento de Outliers"
   ]
  },
  {
   "cell_type": "code",
   "execution_count": 78,
   "metadata": {},
   "outputs": [
    {
     "data": {
      "text/plain": [
       "0        4.99\n",
       "1        4.99\n",
       "2        4.99\n",
       "3        4.99\n",
       "4        4.99\n",
       "         ... \n",
       "71546    1.99\n",
       "71547    1.99\n",
       "71548    1.99\n",
       "71549    4.99\n",
       "71550    4.99\n",
       "Name: price, Length: 71551, dtype: float64"
      ]
     },
     "execution_count": 78,
     "metadata": {},
     "output_type": "execute_result"
    }
   ],
   "source": [
    "df_games[\"price\"]"
   ]
  },
  {
   "cell_type": "code",
   "execution_count": 82,
   "metadata": {},
   "outputs": [
    {
     "data": {
      "text/plain": [
       "price\n",
       "4.99      9475\n",
       "9.99      8692\n",
       "0.00      7951\n",
       "2.99      7583\n",
       "0.99      6190\n",
       "          ... \n",
       "14.95        1\n",
       "771.71       1\n",
       "124.99       1\n",
       "99.00        1\n",
       "42.99        1\n",
       "Name: count, Length: 136, dtype: int64"
      ]
     },
     "execution_count": 82,
     "metadata": {},
     "output_type": "execute_result"
    }
   ],
   "source": [
    "df_games[\"price\"].value_counts()"
   ]
  },
  {
   "cell_type": "code",
   "execution_count": 83,
   "metadata": {},
   "outputs": [
    {
     "name": "stdout",
     "output_type": "stream",
     "text": [
      "1.99\n",
      "9.99\n",
      "8.0\n"
     ]
    }
   ],
   "source": [
    "#buscamos outliers en precio... aunque se puede comprender que los valores resultarán muy diferentes, debido a ofertas o juegos gratis.\n",
    "\n",
    "# Se calcula el IQR (Rango Intercuartil)\n",
    "Q1 = df_games['price'].quantile(0.25)\n",
    "Q3 = df_games['price'].quantile(0.75)\n",
    "IQR = Q3 - Q1\n",
    "print(Q1)\n",
    "print(Q3)\n",
    "print(IQR)"
   ]
  },
  {
   "cell_type": "code",
   "execution_count": 84,
   "metadata": {},
   "outputs": [
    {
     "name": "stdout",
     "output_type": "stream",
     "text": [
      "21.990000000000002\n",
      "-10.01\n"
     ]
    }
   ],
   "source": [
    "#Se defiene el umbral de outliers\n",
    "umbral_superior = Q3 + 1.5 * IQR\n",
    "umbral_inferior = Q1 - 1.5 * IQR\n",
    "print(umbral_superior)\n",
    "print(umbral_inferior)"
   ]
  },
  {
   "cell_type": "code",
   "execution_count": 85,
   "metadata": {},
   "outputs": [
    {
     "name": "stdout",
     "output_type": "stream",
     "text": [
      "                 genres                                                url  \\\n",
      "28         Free to Play  http://store.steampowered.com/app/774278/SNOW_...   \n",
      "29                Indie  http://store.steampowered.com/app/774278/SNOW_...   \n",
      "30           Simulation  http://store.steampowered.com/app/774278/SNOW_...   \n",
      "31               Sports  http://store.steampowered.com/app/774278/SNOW_...   \n",
      "64         Free to Play  http://store.steampowered.com/app/774279/SNOW_...   \n",
      "...                 ...                                                ...   \n",
      "71404        Simulation  http://store.steampowered.com/app/719590/Mesoz...   \n",
      "71405          Strategy  http://store.steampowered.com/app/719590/Mesoz...   \n",
      "71406      Early Access  http://store.steampowered.com/app/719590/Mesoz...   \n",
      "71484         Utilities  http://store.steampowered.com/app/755310/Cyber...   \n",
      "71485  Video Production  http://store.steampowered.com/app/755310/Cyber...   \n",
      "\n",
      "      release_date                                               tags  \\\n",
      "28      2018-01-04  ['Free to Play', 'Indie', 'Simulation', 'Sports']   \n",
      "29      2018-01-04  ['Free to Play', 'Indie', 'Simulation', 'Sports']   \n",
      "30      2018-01-04  ['Free to Play', 'Indie', 'Simulation', 'Sports']   \n",
      "31      2018-01-04  ['Free to Play', 'Indie', 'Simulation', 'Sports']   \n",
      "64      2018-01-03  ['Free to Play', 'Indie', 'Simulation', 'Sports']   \n",
      "...            ...                                                ...   \n",
      "71404   2018-01-02  ['Early Access', 'Simulation', 'Strategy', 'Ca...   \n",
      "71405   2018-01-02  ['Early Access', 'Simulation', 'Strategy', 'Ca...   \n",
      "71406   2018-01-02  ['Early Access', 'Simulation', 'Strategy', 'Ca...   \n",
      "71484   2017-12-26                  ['Utilities', 'Video Production']   \n",
      "71485   2017-12-26                  ['Utilities', 'Video Production']   \n",
      "\n",
      "                                             reviews_url  \\\n",
      "28     http://steamcommunity.com/app/774278/reviews/?...   \n",
      "29     http://steamcommunity.com/app/774278/reviews/?...   \n",
      "30     http://steamcommunity.com/app/774278/reviews/?...   \n",
      "31     http://steamcommunity.com/app/774278/reviews/?...   \n",
      "64     http://steamcommunity.com/app/774279/reviews/?...   \n",
      "...                                                  ...   \n",
      "71404  http://steamcommunity.com/app/719590/reviews/?...   \n",
      "71405  http://steamcommunity.com/app/719590/reviews/?...   \n",
      "71406  http://steamcommunity.com/app/719590/reviews/?...   \n",
      "71484  http://steamcommunity.com/app/755310/reviews/?...   \n",
      "71485  http://steamcommunity.com/app/755310/reviews/?...   \n",
      "\n",
      "                                                   specs  price  early_access  \\\n",
      "28     ['Single-player', 'Multi-player', 'Online Mult...  29.99         False   \n",
      "29     ['Single-player', 'Multi-player', 'Online Mult...  29.99         False   \n",
      "30     ['Single-player', 'Multi-player', 'Online Mult...  29.99         False   \n",
      "31     ['Single-player', 'Multi-player', 'Online Mult...  29.99         False   \n",
      "64     ['Single-player', 'Multi-player', 'Online Mult...  59.99         False   \n",
      "...                                                  ...    ...           ...   \n",
      "71404                                  ['Single-player']  29.99          True   \n",
      "71405                                  ['Single-player']  29.99          True   \n",
      "71406                                  ['Single-player']  29.99          True   \n",
      "71484                                               None  29.99         False   \n",
      "71485                                               None  29.99         False   \n",
      "\n",
      "       item_id release_anio               publisher  \\\n",
      "28      774278         2018  Poppermost Productions   \n",
      "29      774278         2018  Poppermost Productions   \n",
      "30      774278         2018  Poppermost Productions   \n",
      "31      774278         2018  Poppermost Productions   \n",
      "64      774279         2018  Poppermost Productions   \n",
      "...        ...          ...                     ...   \n",
      "71404   719590         2018        DreamInCode B.V.   \n",
      "71405   719590         2018        DreamInCode B.V.   \n",
      "71406   719590         2018        DreamInCode B.V.   \n",
      "71484   755310         2017              Koch Media   \n",
      "71485   755310         2017              Koch Media   \n",
      "\n",
      "                            app_name                          title  \\\n",
      "28     SNOW - All Access Legend Pass  SNOW - All Access Legend Pass   \n",
      "29     SNOW - All Access Legend Pass  SNOW - All Access Legend Pass   \n",
      "30     SNOW - All Access Legend Pass  SNOW - All Access Legend Pass   \n",
      "31     SNOW - All Access Legend Pass  SNOW - All Access Legend Pass   \n",
      "64              SNOW - Lifetime Pack           SNOW - Lifetime Pack   \n",
      "...                              ...                            ...   \n",
      "71404                      Mesozoica                      Mesozoica   \n",
      "71405                      Mesozoica                      Mesozoica   \n",
      "71406                      Mesozoica                      Mesozoica   \n",
      "71484      CyberLink YouCam 7 Deluxe      CyberLink YouCam 7 Deluxe   \n",
      "71485      CyberLink YouCam 7 Deluxe      CyberLink YouCam 7 Deluxe   \n",
      "\n",
      "                                   developer  \n",
      "28                    Poppermost Productions  \n",
      "29                    Poppermost Productions  \n",
      "30                    Poppermost Productions  \n",
      "31                    Poppermost Productions  \n",
      "64                    Poppermost Productions  \n",
      "...                                      ...  \n",
      "71404  DreamInCode B.V.,Squadron Interactive  \n",
      "71405  DreamInCode B.V.,Squadron Interactive  \n",
      "71406  DreamInCode B.V.,Squadron Interactive  \n",
      "71484                              CyberLink  \n",
      "71485                              CyberLink  \n",
      "\n",
      "[4057 rows x 14 columns]\n",
      "Empty DataFrame\n",
      "Columns: [genres, url, release_date, tags, reviews_url, specs, price, early_access, item_id, release_anio, publisher, app_name, title, developer]\n",
      "Index: []\n"
     ]
    }
   ],
   "source": [
    "#Se identifican los outliers\n",
    "outliers_superiores = df_games[df_games['price'] > umbral_superior]\n",
    "outliers_inferiores = df_games[df_games['price'] < umbral_inferior]\n",
    "print(outliers_superiores)\n",
    "print(outliers_inferiores)"
   ]
  },
  {
   "cell_type": "code",
   "execution_count": 86,
   "metadata": {},
   "outputs": [
    {
     "data": {
      "text/html": [
       "<div>\n",
       "<style scoped>\n",
       "    .dataframe tbody tr th:only-of-type {\n",
       "        vertical-align: middle;\n",
       "    }\n",
       "\n",
       "    .dataframe tbody tr th {\n",
       "        vertical-align: top;\n",
       "    }\n",
       "\n",
       "    .dataframe thead th {\n",
       "        text-align: right;\n",
       "    }\n",
       "</style>\n",
       "<table border=\"1\" class=\"dataframe\">\n",
       "  <thead>\n",
       "    <tr style=\"text-align: right;\">\n",
       "      <th></th>\n",
       "      <th>genres</th>\n",
       "      <th>url</th>\n",
       "      <th>release_date</th>\n",
       "      <th>tags</th>\n",
       "      <th>reviews_url</th>\n",
       "      <th>specs</th>\n",
       "      <th>price</th>\n",
       "      <th>early_access</th>\n",
       "      <th>item_id</th>\n",
       "      <th>release_anio</th>\n",
       "      <th>publisher</th>\n",
       "      <th>app_name</th>\n",
       "      <th>title</th>\n",
       "      <th>developer</th>\n",
       "    </tr>\n",
       "  </thead>\n",
       "  <tbody>\n",
       "  </tbody>\n",
       "</table>\n",
       "</div>"
      ],
      "text/plain": [
       "Empty DataFrame\n",
       "Columns: [genres, url, release_date, tags, reviews_url, specs, price, early_access, item_id, release_anio, publisher, app_name, title, developer]\n",
       "Index: []"
      ]
     },
     "execution_count": 86,
     "metadata": {},
     "output_type": "execute_result"
    }
   ],
   "source": [
    "outliers_inferiores"
   ]
  },
  {
   "cell_type": "code",
   "execution_count": 87,
   "metadata": {},
   "outputs": [
    {
     "data": {
      "text/html": [
       "<div>\n",
       "<style scoped>\n",
       "    .dataframe tbody tr th:only-of-type {\n",
       "        vertical-align: middle;\n",
       "    }\n",
       "\n",
       "    .dataframe tbody tr th {\n",
       "        vertical-align: top;\n",
       "    }\n",
       "\n",
       "    .dataframe thead th {\n",
       "        text-align: right;\n",
       "    }\n",
       "</style>\n",
       "<table border=\"1\" class=\"dataframe\">\n",
       "  <thead>\n",
       "    <tr style=\"text-align: right;\">\n",
       "      <th></th>\n",
       "      <th>genres</th>\n",
       "      <th>url</th>\n",
       "      <th>release_date</th>\n",
       "      <th>tags</th>\n",
       "      <th>reviews_url</th>\n",
       "      <th>specs</th>\n",
       "      <th>price</th>\n",
       "      <th>early_access</th>\n",
       "      <th>item_id</th>\n",
       "      <th>release_anio</th>\n",
       "      <th>publisher</th>\n",
       "      <th>app_name</th>\n",
       "      <th>title</th>\n",
       "      <th>developer</th>\n",
       "    </tr>\n",
       "  </thead>\n",
       "  <tbody>\n",
       "    <tr>\n",
       "      <th>28</th>\n",
       "      <td>Free to Play</td>\n",
       "      <td>http://store.steampowered.com/app/774278/SNOW_...</td>\n",
       "      <td>2018-01-04</td>\n",
       "      <td>['Free to Play', 'Indie', 'Simulation', 'Sports']</td>\n",
       "      <td>http://steamcommunity.com/app/774278/reviews/?...</td>\n",
       "      <td>['Single-player', 'Multi-player', 'Online Mult...</td>\n",
       "      <td>29.99</td>\n",
       "      <td>False</td>\n",
       "      <td>774278</td>\n",
       "      <td>2018</td>\n",
       "      <td>Poppermost Productions</td>\n",
       "      <td>SNOW - All Access Legend Pass</td>\n",
       "      <td>SNOW - All Access Legend Pass</td>\n",
       "      <td>Poppermost Productions</td>\n",
       "    </tr>\n",
       "    <tr>\n",
       "      <th>29</th>\n",
       "      <td>Indie</td>\n",
       "      <td>http://store.steampowered.com/app/774278/SNOW_...</td>\n",
       "      <td>2018-01-04</td>\n",
       "      <td>['Free to Play', 'Indie', 'Simulation', 'Sports']</td>\n",
       "      <td>http://steamcommunity.com/app/774278/reviews/?...</td>\n",
       "      <td>['Single-player', 'Multi-player', 'Online Mult...</td>\n",
       "      <td>29.99</td>\n",
       "      <td>False</td>\n",
       "      <td>774278</td>\n",
       "      <td>2018</td>\n",
       "      <td>Poppermost Productions</td>\n",
       "      <td>SNOW - All Access Legend Pass</td>\n",
       "      <td>SNOW - All Access Legend Pass</td>\n",
       "      <td>Poppermost Productions</td>\n",
       "    </tr>\n",
       "    <tr>\n",
       "      <th>30</th>\n",
       "      <td>Simulation</td>\n",
       "      <td>http://store.steampowered.com/app/774278/SNOW_...</td>\n",
       "      <td>2018-01-04</td>\n",
       "      <td>['Free to Play', 'Indie', 'Simulation', 'Sports']</td>\n",
       "      <td>http://steamcommunity.com/app/774278/reviews/?...</td>\n",
       "      <td>['Single-player', 'Multi-player', 'Online Mult...</td>\n",
       "      <td>29.99</td>\n",
       "      <td>False</td>\n",
       "      <td>774278</td>\n",
       "      <td>2018</td>\n",
       "      <td>Poppermost Productions</td>\n",
       "      <td>SNOW - All Access Legend Pass</td>\n",
       "      <td>SNOW - All Access Legend Pass</td>\n",
       "      <td>Poppermost Productions</td>\n",
       "    </tr>\n",
       "    <tr>\n",
       "      <th>31</th>\n",
       "      <td>Sports</td>\n",
       "      <td>http://store.steampowered.com/app/774278/SNOW_...</td>\n",
       "      <td>2018-01-04</td>\n",
       "      <td>['Free to Play', 'Indie', 'Simulation', 'Sports']</td>\n",
       "      <td>http://steamcommunity.com/app/774278/reviews/?...</td>\n",
       "      <td>['Single-player', 'Multi-player', 'Online Mult...</td>\n",
       "      <td>29.99</td>\n",
       "      <td>False</td>\n",
       "      <td>774278</td>\n",
       "      <td>2018</td>\n",
       "      <td>Poppermost Productions</td>\n",
       "      <td>SNOW - All Access Legend Pass</td>\n",
       "      <td>SNOW - All Access Legend Pass</td>\n",
       "      <td>Poppermost Productions</td>\n",
       "    </tr>\n",
       "    <tr>\n",
       "      <th>64</th>\n",
       "      <td>Free to Play</td>\n",
       "      <td>http://store.steampowered.com/app/774279/SNOW_...</td>\n",
       "      <td>2018-01-03</td>\n",
       "      <td>['Free to Play', 'Indie', 'Simulation', 'Sports']</td>\n",
       "      <td>http://steamcommunity.com/app/774279/reviews/?...</td>\n",
       "      <td>['Single-player', 'Multi-player', 'Online Mult...</td>\n",
       "      <td>59.99</td>\n",
       "      <td>False</td>\n",
       "      <td>774279</td>\n",
       "      <td>2018</td>\n",
       "      <td>Poppermost Productions</td>\n",
       "      <td>SNOW - Lifetime Pack</td>\n",
       "      <td>SNOW - Lifetime Pack</td>\n",
       "      <td>Poppermost Productions</td>\n",
       "    </tr>\n",
       "    <tr>\n",
       "      <th>...</th>\n",
       "      <td>...</td>\n",
       "      <td>...</td>\n",
       "      <td>...</td>\n",
       "      <td>...</td>\n",
       "      <td>...</td>\n",
       "      <td>...</td>\n",
       "      <td>...</td>\n",
       "      <td>...</td>\n",
       "      <td>...</td>\n",
       "      <td>...</td>\n",
       "      <td>...</td>\n",
       "      <td>...</td>\n",
       "      <td>...</td>\n",
       "      <td>...</td>\n",
       "    </tr>\n",
       "    <tr>\n",
       "      <th>71404</th>\n",
       "      <td>Simulation</td>\n",
       "      <td>http://store.steampowered.com/app/719590/Mesoz...</td>\n",
       "      <td>2018-01-02</td>\n",
       "      <td>['Early Access', 'Simulation', 'Strategy', 'Ca...</td>\n",
       "      <td>http://steamcommunity.com/app/719590/reviews/?...</td>\n",
       "      <td>['Single-player']</td>\n",
       "      <td>29.99</td>\n",
       "      <td>True</td>\n",
       "      <td>719590</td>\n",
       "      <td>2018</td>\n",
       "      <td>DreamInCode B.V.</td>\n",
       "      <td>Mesozoica</td>\n",
       "      <td>Mesozoica</td>\n",
       "      <td>DreamInCode B.V.,Squadron Interactive</td>\n",
       "    </tr>\n",
       "    <tr>\n",
       "      <th>71405</th>\n",
       "      <td>Strategy</td>\n",
       "      <td>http://store.steampowered.com/app/719590/Mesoz...</td>\n",
       "      <td>2018-01-02</td>\n",
       "      <td>['Early Access', 'Simulation', 'Strategy', 'Ca...</td>\n",
       "      <td>http://steamcommunity.com/app/719590/reviews/?...</td>\n",
       "      <td>['Single-player']</td>\n",
       "      <td>29.99</td>\n",
       "      <td>True</td>\n",
       "      <td>719590</td>\n",
       "      <td>2018</td>\n",
       "      <td>DreamInCode B.V.</td>\n",
       "      <td>Mesozoica</td>\n",
       "      <td>Mesozoica</td>\n",
       "      <td>DreamInCode B.V.,Squadron Interactive</td>\n",
       "    </tr>\n",
       "    <tr>\n",
       "      <th>71406</th>\n",
       "      <td>Early Access</td>\n",
       "      <td>http://store.steampowered.com/app/719590/Mesoz...</td>\n",
       "      <td>2018-01-02</td>\n",
       "      <td>['Early Access', 'Simulation', 'Strategy', 'Ca...</td>\n",
       "      <td>http://steamcommunity.com/app/719590/reviews/?...</td>\n",
       "      <td>['Single-player']</td>\n",
       "      <td>29.99</td>\n",
       "      <td>True</td>\n",
       "      <td>719590</td>\n",
       "      <td>2018</td>\n",
       "      <td>DreamInCode B.V.</td>\n",
       "      <td>Mesozoica</td>\n",
       "      <td>Mesozoica</td>\n",
       "      <td>DreamInCode B.V.,Squadron Interactive</td>\n",
       "    </tr>\n",
       "    <tr>\n",
       "      <th>71484</th>\n",
       "      <td>Utilities</td>\n",
       "      <td>http://store.steampowered.com/app/755310/Cyber...</td>\n",
       "      <td>2017-12-26</td>\n",
       "      <td>['Utilities', 'Video Production']</td>\n",
       "      <td>http://steamcommunity.com/app/755310/reviews/?...</td>\n",
       "      <td>None</td>\n",
       "      <td>29.99</td>\n",
       "      <td>False</td>\n",
       "      <td>755310</td>\n",
       "      <td>2017</td>\n",
       "      <td>Koch Media</td>\n",
       "      <td>CyberLink YouCam 7 Deluxe</td>\n",
       "      <td>CyberLink YouCam 7 Deluxe</td>\n",
       "      <td>CyberLink</td>\n",
       "    </tr>\n",
       "    <tr>\n",
       "      <th>71485</th>\n",
       "      <td>Video Production</td>\n",
       "      <td>http://store.steampowered.com/app/755310/Cyber...</td>\n",
       "      <td>2017-12-26</td>\n",
       "      <td>['Utilities', 'Video Production']</td>\n",
       "      <td>http://steamcommunity.com/app/755310/reviews/?...</td>\n",
       "      <td>None</td>\n",
       "      <td>29.99</td>\n",
       "      <td>False</td>\n",
       "      <td>755310</td>\n",
       "      <td>2017</td>\n",
       "      <td>Koch Media</td>\n",
       "      <td>CyberLink YouCam 7 Deluxe</td>\n",
       "      <td>CyberLink YouCam 7 Deluxe</td>\n",
       "      <td>CyberLink</td>\n",
       "    </tr>\n",
       "  </tbody>\n",
       "</table>\n",
       "<p>4057 rows × 14 columns</p>\n",
       "</div>"
      ],
      "text/plain": [
       "                 genres                                                url  \\\n",
       "28         Free to Play  http://store.steampowered.com/app/774278/SNOW_...   \n",
       "29                Indie  http://store.steampowered.com/app/774278/SNOW_...   \n",
       "30           Simulation  http://store.steampowered.com/app/774278/SNOW_...   \n",
       "31               Sports  http://store.steampowered.com/app/774278/SNOW_...   \n",
       "64         Free to Play  http://store.steampowered.com/app/774279/SNOW_...   \n",
       "...                 ...                                                ...   \n",
       "71404        Simulation  http://store.steampowered.com/app/719590/Mesoz...   \n",
       "71405          Strategy  http://store.steampowered.com/app/719590/Mesoz...   \n",
       "71406      Early Access  http://store.steampowered.com/app/719590/Mesoz...   \n",
       "71484         Utilities  http://store.steampowered.com/app/755310/Cyber...   \n",
       "71485  Video Production  http://store.steampowered.com/app/755310/Cyber...   \n",
       "\n",
       "      release_date                                               tags  \\\n",
       "28      2018-01-04  ['Free to Play', 'Indie', 'Simulation', 'Sports']   \n",
       "29      2018-01-04  ['Free to Play', 'Indie', 'Simulation', 'Sports']   \n",
       "30      2018-01-04  ['Free to Play', 'Indie', 'Simulation', 'Sports']   \n",
       "31      2018-01-04  ['Free to Play', 'Indie', 'Simulation', 'Sports']   \n",
       "64      2018-01-03  ['Free to Play', 'Indie', 'Simulation', 'Sports']   \n",
       "...            ...                                                ...   \n",
       "71404   2018-01-02  ['Early Access', 'Simulation', 'Strategy', 'Ca...   \n",
       "71405   2018-01-02  ['Early Access', 'Simulation', 'Strategy', 'Ca...   \n",
       "71406   2018-01-02  ['Early Access', 'Simulation', 'Strategy', 'Ca...   \n",
       "71484   2017-12-26                  ['Utilities', 'Video Production']   \n",
       "71485   2017-12-26                  ['Utilities', 'Video Production']   \n",
       "\n",
       "                                             reviews_url  \\\n",
       "28     http://steamcommunity.com/app/774278/reviews/?...   \n",
       "29     http://steamcommunity.com/app/774278/reviews/?...   \n",
       "30     http://steamcommunity.com/app/774278/reviews/?...   \n",
       "31     http://steamcommunity.com/app/774278/reviews/?...   \n",
       "64     http://steamcommunity.com/app/774279/reviews/?...   \n",
       "...                                                  ...   \n",
       "71404  http://steamcommunity.com/app/719590/reviews/?...   \n",
       "71405  http://steamcommunity.com/app/719590/reviews/?...   \n",
       "71406  http://steamcommunity.com/app/719590/reviews/?...   \n",
       "71484  http://steamcommunity.com/app/755310/reviews/?...   \n",
       "71485  http://steamcommunity.com/app/755310/reviews/?...   \n",
       "\n",
       "                                                   specs  price  early_access  \\\n",
       "28     ['Single-player', 'Multi-player', 'Online Mult...  29.99         False   \n",
       "29     ['Single-player', 'Multi-player', 'Online Mult...  29.99         False   \n",
       "30     ['Single-player', 'Multi-player', 'Online Mult...  29.99         False   \n",
       "31     ['Single-player', 'Multi-player', 'Online Mult...  29.99         False   \n",
       "64     ['Single-player', 'Multi-player', 'Online Mult...  59.99         False   \n",
       "...                                                  ...    ...           ...   \n",
       "71404                                  ['Single-player']  29.99          True   \n",
       "71405                                  ['Single-player']  29.99          True   \n",
       "71406                                  ['Single-player']  29.99          True   \n",
       "71484                                               None  29.99         False   \n",
       "71485                                               None  29.99         False   \n",
       "\n",
       "       item_id release_anio               publisher  \\\n",
       "28      774278         2018  Poppermost Productions   \n",
       "29      774278         2018  Poppermost Productions   \n",
       "30      774278         2018  Poppermost Productions   \n",
       "31      774278         2018  Poppermost Productions   \n",
       "64      774279         2018  Poppermost Productions   \n",
       "...        ...          ...                     ...   \n",
       "71404   719590         2018        DreamInCode B.V.   \n",
       "71405   719590         2018        DreamInCode B.V.   \n",
       "71406   719590         2018        DreamInCode B.V.   \n",
       "71484   755310         2017              Koch Media   \n",
       "71485   755310         2017              Koch Media   \n",
       "\n",
       "                            app_name                          title  \\\n",
       "28     SNOW - All Access Legend Pass  SNOW - All Access Legend Pass   \n",
       "29     SNOW - All Access Legend Pass  SNOW - All Access Legend Pass   \n",
       "30     SNOW - All Access Legend Pass  SNOW - All Access Legend Pass   \n",
       "31     SNOW - All Access Legend Pass  SNOW - All Access Legend Pass   \n",
       "64              SNOW - Lifetime Pack           SNOW - Lifetime Pack   \n",
       "...                              ...                            ...   \n",
       "71404                      Mesozoica                      Mesozoica   \n",
       "71405                      Mesozoica                      Mesozoica   \n",
       "71406                      Mesozoica                      Mesozoica   \n",
       "71484      CyberLink YouCam 7 Deluxe      CyberLink YouCam 7 Deluxe   \n",
       "71485      CyberLink YouCam 7 Deluxe      CyberLink YouCam 7 Deluxe   \n",
       "\n",
       "                                   developer  \n",
       "28                    Poppermost Productions  \n",
       "29                    Poppermost Productions  \n",
       "30                    Poppermost Productions  \n",
       "31                    Poppermost Productions  \n",
       "64                    Poppermost Productions  \n",
       "...                                      ...  \n",
       "71404  DreamInCode B.V.,Squadron Interactive  \n",
       "71405  DreamInCode B.V.,Squadron Interactive  \n",
       "71406  DreamInCode B.V.,Squadron Interactive  \n",
       "71484                              CyberLink  \n",
       "71485                              CyberLink  \n",
       "\n",
       "[4057 rows x 14 columns]"
      ]
     },
     "execution_count": 87,
     "metadata": {},
     "output_type": "execute_result"
    }
   ],
   "source": [
    "outliers_superiores"
   ]
  },
  {
   "cell_type": "markdown",
   "metadata": {},
   "source": [
    "Ahora se crean dos gráficos: \n",
    "- un `Stripplot` para visualizar la distribución de los precios de los juegos \n",
    "- un `Boxplot` para resumir estadísticamente esos precios"
   ]
  },
  {
   "cell_type": "code",
   "execution_count": 97,
   "metadata": {},
   "outputs": [
    {
     "name": "stderr",
     "output_type": "stream",
     "text": [
      "e:\\JIME\\Desktop\\PI_1-MLOps_Juegos_Steam\\env\\Lib\\site-packages\\seaborn\\_oldcore.py:1498: FutureWarning: is_categorical_dtype is deprecated and will be removed in a future version. Use isinstance(dtype, CategoricalDtype) instead\n",
      "  if pd.api.types.is_categorical_dtype(vector):\n",
      "e:\\JIME\\Desktop\\PI_1-MLOps_Juegos_Steam\\env\\Lib\\site-packages\\seaborn\\_oldcore.py:1498: FutureWarning: is_categorical_dtype is deprecated and will be removed in a future version. Use isinstance(dtype, CategoricalDtype) instead\n",
      "  if pd.api.types.is_categorical_dtype(vector):\n",
      "e:\\JIME\\Desktop\\PI_1-MLOps_Juegos_Steam\\env\\Lib\\site-packages\\seaborn\\_oldcore.py:1498: FutureWarning: is_categorical_dtype is deprecated and will be removed in a future version. Use isinstance(dtype, CategoricalDtype) instead\n",
      "  if pd.api.types.is_categorical_dtype(vector):\n",
      "e:\\JIME\\Desktop\\PI_1-MLOps_Juegos_Steam\\env\\Lib\\site-packages\\seaborn\\_oldcore.py:1498: FutureWarning: is_categorical_dtype is deprecated and will be removed in a future version. Use isinstance(dtype, CategoricalDtype) instead\n",
      "  if pd.api.types.is_categorical_dtype(vector):\n",
      "e:\\JIME\\Desktop\\PI_1-MLOps_Juegos_Steam\\env\\Lib\\site-packages\\seaborn\\_oldcore.py:1498: FutureWarning: is_categorical_dtype is deprecated and will be removed in a future version. Use isinstance(dtype, CategoricalDtype) instead\n",
      "  if pd.api.types.is_categorical_dtype(vector):\n",
      "e:\\JIME\\Desktop\\PI_1-MLOps_Juegos_Steam\\env\\Lib\\site-packages\\seaborn\\_oldcore.py:1119: FutureWarning: use_inf_as_na option is deprecated and will be removed in a future version. Convert inf values to NaN before operating instead.\n",
      "  with pd.option_context('mode.use_inf_as_na', True):\n",
      "e:\\JIME\\Desktop\\PI_1-MLOps_Juegos_Steam\\env\\Lib\\site-packages\\seaborn\\_oldcore.py:1119: FutureWarning: use_inf_as_na option is deprecated and will be removed in a future version. Convert inf values to NaN before operating instead.\n",
      "  with pd.option_context('mode.use_inf_as_na', True):\n",
      "e:\\JIME\\Desktop\\PI_1-MLOps_Juegos_Steam\\env\\Lib\\site-packages\\seaborn\\_oldcore.py:1498: FutureWarning: is_categorical_dtype is deprecated and will be removed in a future version. Use isinstance(dtype, CategoricalDtype) instead\n",
      "  if pd.api.types.is_categorical_dtype(vector):\n"
     ]
    },
    {
     "data": {
      "image/png": "[encoded data removed]",
      "text/plain": [
       "<Figure size 1400x800 with 2 Axes>"
      ]
     },
     "metadata": {},
     "output_type": "display_data"
    }
   ],
   "source": [
    "# Obtiene los precios para cada juego y hace un dataframe\n",
    "precio = df_games.groupby('item_id')['price'].unique().reset_index().explode('price')\n",
    "precio_out = precio['price']\n",
    "\n",
    "fig = plt.figure(figsize=(14, 8))\n",
    "\n",
    "#Stripplot (distribución de precios)\n",
    "ax1 = fig.add_subplot(211)\n",
    "sns.stripplot(data=precio_out, x=precio_out, ax=ax1, color=\"red\")\n",
    "ax1.set_xlabel('Precio') ; ax1.set_ylabel('Cantidad de Juegos') ; ax1.set_title('Distribución de precios de los juegos')\n",
    "\n",
    "#Boxplot (medidas estadísticas)\n",
    "ax2 = fig.add_subplot(212, sharex=ax1)\n",
    "sns.boxplot(data=precio_out, x=precio_out, ax=ax2, color=\"orange\")\n",
    "ax2.set_xlabel('Precio') ; ax2.set_ylabel('Cantidad de Juegos'), ax2.set_title('Medidas estadísticas de precios de los juegos')\n",
    "\n",
    "# Muestra y ajustar el espaciado entre subplots\n",
    "plt.tight_layout()\n",
    "plt.show()"
   ]
  },
  {
   "cell_type": "code",
   "execution_count": 89,
   "metadata": {},
   "outputs": [
    {
     "data": {
      "text/html": [
       "<div>\n",
       "<style scoped>\n",
       "    .dataframe tbody tr th:only-of-type {\n",
       "        vertical-align: middle;\n",
       "    }\n",
       "\n",
       "    .dataframe tbody tr th {\n",
       "        vertical-align: top;\n",
       "    }\n",
       "\n",
       "    .dataframe thead th {\n",
       "        text-align: right;\n",
       "    }\n",
       "</style>\n",
       "<table border=\"1\" class=\"dataframe\">\n",
       "  <thead>\n",
       "    <tr style=\"text-align: right;\">\n",
       "      <th></th>\n",
       "      <th>price</th>\n",
       "      <th>item_id</th>\n",
       "    </tr>\n",
       "  </thead>\n",
       "  <tbody>\n",
       "    <tr>\n",
       "      <th>count</th>\n",
       "      <td>71551.000000</td>\n",
       "      <td>7.155100e+04</td>\n",
       "    </tr>\n",
       "    <tr>\n",
       "      <th>mean</th>\n",
       "      <td>8.444274</td>\n",
       "      <td>4.625947e+05</td>\n",
       "    </tr>\n",
       "    <tr>\n",
       "      <th>std</th>\n",
       "      <td>15.767991</td>\n",
       "      <td>1.741703e+05</td>\n",
       "    </tr>\n",
       "    <tr>\n",
       "      <th>min</th>\n",
       "      <td>0.000000</td>\n",
       "      <td>1.000000e+01</td>\n",
       "    </tr>\n",
       "    <tr>\n",
       "      <th>25%</th>\n",
       "      <td>1.990000</td>\n",
       "      <td>3.414650e+05</td>\n",
       "    </tr>\n",
       "    <tr>\n",
       "      <th>50%</th>\n",
       "      <td>4.990000</td>\n",
       "      <td>4.568300e+05</td>\n",
       "    </tr>\n",
       "    <tr>\n",
       "      <th>75%</th>\n",
       "      <td>9.990000</td>\n",
       "      <td>5.984750e+05</td>\n",
       "    </tr>\n",
       "    <tr>\n",
       "      <th>max</th>\n",
       "      <td>995.000000</td>\n",
       "      <td>2.028850e+06</td>\n",
       "    </tr>\n",
       "  </tbody>\n",
       "</table>\n",
       "</div>"
      ],
      "text/plain": [
       "              price       item_id\n",
       "count  71551.000000  7.155100e+04\n",
       "mean       8.444274  4.625947e+05\n",
       "std       15.767991  1.741703e+05\n",
       "min        0.000000  1.000000e+01\n",
       "25%        1.990000  3.414650e+05\n",
       "50%        4.990000  4.568300e+05\n",
       "75%        9.990000  5.984750e+05\n",
       "max      995.000000  2.028850e+06"
      ]
     },
     "execution_count": 89,
     "metadata": {},
     "output_type": "execute_result"
    }
   ],
   "source": [
    "df_games.describe()"
   ]
  },
  {
   "cell_type": "markdown",
   "metadata": {},
   "source": [
    "Analizo sólo la columna precios "
   ]
  },
  {
   "cell_type": "code",
   "execution_count": 96,
   "metadata": {},
   "outputs": [
    {
     "name": "stderr",
     "output_type": "stream",
     "text": [
      "e:\\JIME\\Desktop\\PI_1-MLOps_Juegos_Steam\\env\\Lib\\site-packages\\seaborn\\_oldcore.py:1498: FutureWarning: is_categorical_dtype is deprecated and will be removed in a future version. Use isinstance(dtype, CategoricalDtype) instead\n",
      "  if pd.api.types.is_categorical_dtype(vector):\n"
     ]
    },
    {
     "data": {
      "image/png": "[encoded data removed]",
      "text/plain": [
       "<Figure size 1400x400 with 1 Axes>"
      ]
     },
     "metadata": {},
     "output_type": "display_data"
    }
   ],
   "source": [
    "fig = plt.figure(figsize=(14, 4))\n",
    "\n",
    "sns.boxplot(data=df_games, x='price',palette='RdBu_r')\n",
    "plt.show()"
   ]
  },
  {
   "cell_type": "markdown",
   "metadata": {},
   "source": [
    "**Conclusión**\n",
    "- Los precios de los juegos en promedio es de 8.44\n",
    "- El 50% de los precios de los juegos Steam en encuentra entre 0 y 4.99\n",
    "- El 75% de los precios de los juegos Steam se encuentra por debajo de los 9.99\n",
    "- El precio máximo es de 995.00 \n",
    "- La cantidad de Outliers de precio en el margen superior es de 4076 "
   ]
  },
  {
   "cell_type": "markdown",
   "metadata": {},
   "source": [
    "### 2- EDA de `user_reviews.parquet`"
   ]
  },
  {
   "cell_type": "markdown",
   "metadata": {},
   "source": [
    "#### a) Extracción y revisión de nulos y duplicados\n",
    "\n",
    "Se extrae el dataset que resulto luego del ETL"
   ]
  },
  {
   "cell_type": "code",
   "execution_count": 102,
   "metadata": {},
   "outputs": [
    {
     "data": {
      "text/html": [
       "<div>\n",
       "<style scoped>\n",
       "    .dataframe tbody tr th:only-of-type {\n",
       "        vertical-align: middle;\n",
       "    }\n",
       "\n",
       "    .dataframe tbody tr th {\n",
       "        vertical-align: top;\n",
       "    }\n",
       "\n",
       "    .dataframe thead th {\n",
       "        text-align: right;\n",
       "    }\n",
       "</style>\n",
       "<table border=\"1\" class=\"dataframe\">\n",
       "  <thead>\n",
       "    <tr style=\"text-align: right;\">\n",
       "      <th></th>\n",
       "      <th>user_id</th>\n",
       "      <th>user_url</th>\n",
       "      <th>funny</th>\n",
       "      <th>posted</th>\n",
       "      <th>last_edited</th>\n",
       "      <th>item_id</th>\n",
       "      <th>helpful</th>\n",
       "      <th>recommend</th>\n",
       "      <th>sentiment_analisis</th>\n",
       "    </tr>\n",
       "  </thead>\n",
       "  <tbody>\n",
       "    <tr>\n",
       "      <th>0</th>\n",
       "      <td>76561197970982479</td>\n",
       "      <td>http://steamcommunity.com/profiles/76561197970...</td>\n",
       "      <td>None</td>\n",
       "      <td>2011-11-05</td>\n",
       "      <td>None</td>\n",
       "      <td>1250</td>\n",
       "      <td>No ratings yet</td>\n",
       "      <td>True</td>\n",
       "      <td>2</td>\n",
       "    </tr>\n",
       "    <tr>\n",
       "      <th>1</th>\n",
       "      <td>76561197970982479</td>\n",
       "      <td>http://steamcommunity.com/profiles/76561197970...</td>\n",
       "      <td>None</td>\n",
       "      <td>2011-07-15</td>\n",
       "      <td>None</td>\n",
       "      <td>22200</td>\n",
       "      <td>No ratings yet</td>\n",
       "      <td>True</td>\n",
       "      <td>2</td>\n",
       "    </tr>\n",
       "    <tr>\n",
       "      <th>2</th>\n",
       "      <td>76561197970982479</td>\n",
       "      <td>http://steamcommunity.com/profiles/76561197970...</td>\n",
       "      <td>None</td>\n",
       "      <td>2011-04-21</td>\n",
       "      <td>None</td>\n",
       "      <td>43110</td>\n",
       "      <td>No ratings yet</td>\n",
       "      <td>True</td>\n",
       "      <td>1</td>\n",
       "    </tr>\n",
       "    <tr>\n",
       "      <th>3</th>\n",
       "      <td>js41637</td>\n",
       "      <td>http://steamcommunity.com/id/js41637</td>\n",
       "      <td>None</td>\n",
       "      <td>2014-06-24</td>\n",
       "      <td>None</td>\n",
       "      <td>251610</td>\n",
       "      <td>15 of 20 people (75%) found this review helpful</td>\n",
       "      <td>True</td>\n",
       "      <td>2</td>\n",
       "    </tr>\n",
       "    <tr>\n",
       "      <th>4</th>\n",
       "      <td>js41637</td>\n",
       "      <td>http://steamcommunity.com/id/js41637</td>\n",
       "      <td>None</td>\n",
       "      <td>2013-09-08</td>\n",
       "      <td>None</td>\n",
       "      <td>227300</td>\n",
       "      <td>0 of 1 people (0%) found this review helpful</td>\n",
       "      <td>True</td>\n",
       "      <td>1</td>\n",
       "    </tr>\n",
       "    <tr>\n",
       "      <th>...</th>\n",
       "      <td>...</td>\n",
       "      <td>...</td>\n",
       "      <td>...</td>\n",
       "      <td>...</td>\n",
       "      <td>...</td>\n",
       "      <td>...</td>\n",
       "      <td>...</td>\n",
       "      <td>...</td>\n",
       "      <td>...</td>\n",
       "    </tr>\n",
       "    <tr>\n",
       "      <th>59156</th>\n",
       "      <td>Fuckfhaisjnsnsjakaka</td>\n",
       "      <td>http://steamcommunity.com/id/Fuckfhaisjnsnsjakaka</td>\n",
       "      <td>None</td>\n",
       "      <td>None</td>\n",
       "      <td>None</td>\n",
       "      <td>70</td>\n",
       "      <td>No ratings yet</td>\n",
       "      <td>True</td>\n",
       "      <td>2</td>\n",
       "    </tr>\n",
       "    <tr>\n",
       "      <th>59157</th>\n",
       "      <td>3214213216</td>\n",
       "      <td>http://steamcommunity.com/id/3214213216</td>\n",
       "      <td>None</td>\n",
       "      <td>None</td>\n",
       "      <td>None</td>\n",
       "      <td>362890</td>\n",
       "      <td>No ratings yet</td>\n",
       "      <td>True</td>\n",
       "      <td>2</td>\n",
       "    </tr>\n",
       "    <tr>\n",
       "      <th>59158</th>\n",
       "      <td>ChrisCoroner</td>\n",
       "      <td>http://steamcommunity.com/id/ChrisCoroner</td>\n",
       "      <td>1 person found this review funny</td>\n",
       "      <td>None</td>\n",
       "      <td>None</td>\n",
       "      <td>273110</td>\n",
       "      <td>1 of 2 people (50%) found this review helpful</td>\n",
       "      <td>True</td>\n",
       "      <td>1</td>\n",
       "    </tr>\n",
       "    <tr>\n",
       "      <th>59159</th>\n",
       "      <td>CaptainAmericaCw</td>\n",
       "      <td>http://steamcommunity.com/id/CaptainAmericaCw</td>\n",
       "      <td>None</td>\n",
       "      <td>None</td>\n",
       "      <td>None</td>\n",
       "      <td>730</td>\n",
       "      <td>No ratings yet</td>\n",
       "      <td>True</td>\n",
       "      <td>2</td>\n",
       "    </tr>\n",
       "    <tr>\n",
       "      <th>59160</th>\n",
       "      <td>76561198267374962</td>\n",
       "      <td>http://steamcommunity.com/profiles/76561198267...</td>\n",
       "      <td>None</td>\n",
       "      <td>None</td>\n",
       "      <td>None</td>\n",
       "      <td>440</td>\n",
       "      <td>No ratings yet</td>\n",
       "      <td>True</td>\n",
       "      <td>2</td>\n",
       "    </tr>\n",
       "  </tbody>\n",
       "</table>\n",
       "<p>59161 rows × 9 columns</p>\n",
       "</div>"
      ],
      "text/plain": [
       "                    user_id  \\\n",
       "0         76561197970982479   \n",
       "1         76561197970982479   \n",
       "2         76561197970982479   \n",
       "3                   js41637   \n",
       "4                   js41637   \n",
       "...                     ...   \n",
       "59156  Fuckfhaisjnsnsjakaka   \n",
       "59157            3214213216   \n",
       "59158          ChrisCoroner   \n",
       "59159      CaptainAmericaCw   \n",
       "59160     76561198267374962   \n",
       "\n",
       "                                                user_url  \\\n",
       "0      http://steamcommunity.com/profiles/76561197970...   \n",
       "1      http://steamcommunity.com/profiles/76561197970...   \n",
       "2      http://steamcommunity.com/profiles/76561197970...   \n",
       "3                   http://steamcommunity.com/id/js41637   \n",
       "4                   http://steamcommunity.com/id/js41637   \n",
       "...                                                  ...   \n",
       "59156  http://steamcommunity.com/id/Fuckfhaisjnsnsjakaka   \n",
       "59157            http://steamcommunity.com/id/3214213216   \n",
       "59158          http://steamcommunity.com/id/ChrisCoroner   \n",
       "59159      http://steamcommunity.com/id/CaptainAmericaCw   \n",
       "59160  http://steamcommunity.com/profiles/76561198267...   \n",
       "\n",
       "                                  funny      posted last_edited  item_id  \\\n",
       "0                                  None  2011-11-05        None     1250   \n",
       "1                                  None  2011-07-15        None    22200   \n",
       "2                                  None  2011-04-21        None    43110   \n",
       "3                                  None  2014-06-24        None   251610   \n",
       "4                                  None  2013-09-08        None   227300   \n",
       "...                                 ...         ...         ...      ...   \n",
       "59156                              None        None        None       70   \n",
       "59157                              None        None        None   362890   \n",
       "59158  1 person found this review funny        None        None   273110   \n",
       "59159                              None        None        None      730   \n",
       "59160                              None        None        None      440   \n",
       "\n",
       "                                               helpful  recommend  \\\n",
       "0                                       No ratings yet       True   \n",
       "1                                       No ratings yet       True   \n",
       "2                                       No ratings yet       True   \n",
       "3      15 of 20 people (75%) found this review helpful       True   \n",
       "4         0 of 1 people (0%) found this review helpful       True   \n",
       "...                                                ...        ...   \n",
       "59156                                   No ratings yet       True   \n",
       "59157                                   No ratings yet       True   \n",
       "59158    1 of 2 people (50%) found this review helpful       True   \n",
       "59159                                   No ratings yet       True   \n",
       "59160                                   No ratings yet       True   \n",
       "\n",
       "       sentiment_analisis  \n",
       "0                       2  \n",
       "1                       2  \n",
       "2                       1  \n",
       "3                       2  \n",
       "4                       1  \n",
       "...                   ...  \n",
       "59156                   2  \n",
       "59157                   2  \n",
       "59158                   1  \n",
       "59159                   2  \n",
       "59160                   2  \n",
       "\n",
       "[59161 rows x 9 columns]"
      ]
     },
     "execution_count": 102,
     "metadata": {},
     "output_type": "execute_result"
    }
   ],
   "source": [
    "df_reviews=pd.read_parquet(\"data/user_reviews.parquet\")\n",
    "df_reviews"
   ]
  },
  {
   "cell_type": "markdown",
   "metadata": {},
   "source": [
    "Se buscan nulos y duplicados"
   ]
  },
  {
   "cell_type": "code",
   "execution_count": 103,
   "metadata": {},
   "outputs": [
    {
     "name": "stdout",
     "output_type": "stream",
     "text": [
      "<class 'pandas.core.frame.DataFrame'>\n",
      "RangeIndex: 59161 entries, 0 to 59160\n",
      "Data columns (total 9 columns):\n",
      " #   Column              Non-Null Count  Dtype \n",
      "---  ------              --------------  ----- \n",
      " 0   user_id             59161 non-null  object\n",
      " 1   user_url            59161 non-null  object\n",
      " 2   funny               8127 non-null   object\n",
      " 3   posted              49070 non-null  object\n",
      " 4   last_edited         6123 non-null   object\n",
      " 5   item_id             59161 non-null  int64 \n",
      " 6   helpful             59161 non-null  object\n",
      " 7   recommend           59161 non-null  bool  \n",
      " 8   sentiment_analisis  59161 non-null  int64 \n",
      "dtypes: bool(1), int64(2), object(6)\n",
      "memory usage: 3.7+ MB\n"
     ]
    }
   ],
   "source": [
    "#se informa la cantidad de columnas y el tipo de dato que contiene \n",
    "df_reviews.info()"
   ]
  },
  {
   "cell_type": "code",
   "execution_count": 104,
   "metadata": {},
   "outputs": [
    {
     "data": {
      "text/plain": [
       "user_id                   0\n",
       "user_url                  0\n",
       "funny                 51034\n",
       "posted                10091\n",
       "last_edited           53038\n",
       "item_id                   0\n",
       "helpful                   0\n",
       "recommend                 0\n",
       "sentiment_analisis        0\n",
       "dtype: int64"
      ]
     },
     "execution_count": 104,
     "metadata": {},
     "output_type": "execute_result"
    }
   ],
   "source": [
    "df_reviews.isnull().sum()"
   ]
  },
  {
   "cell_type": "markdown",
   "metadata": {},
   "source": [
    "Las columnas `funny ` y `last_edited` poseen casi todos sus datos nulos por lo que pueden eliminarse del data frame , debido a que no son relevantes para el modelo"
   ]
  },
  {
   "cell_type": "code",
   "execution_count": 106,
   "metadata": {},
   "outputs": [
    {
     "data": {
      "text/html": [
       "<div>\n",
       "<style scoped>\n",
       "    .dataframe tbody tr th:only-of-type {\n",
       "        vertical-align: middle;\n",
       "    }\n",
       "\n",
       "    .dataframe tbody tr th {\n",
       "        vertical-align: top;\n",
       "    }\n",
       "\n",
       "    .dataframe thead th {\n",
       "        text-align: right;\n",
       "    }\n",
       "</style>\n",
       "<table border=\"1\" class=\"dataframe\">\n",
       "  <thead>\n",
       "    <tr style=\"text-align: right;\">\n",
       "      <th></th>\n",
       "      <th>user_id</th>\n",
       "      <th>user_url</th>\n",
       "      <th>posted</th>\n",
       "      <th>item_id</th>\n",
       "      <th>helpful</th>\n",
       "      <th>recommend</th>\n",
       "      <th>sentiment_analisis</th>\n",
       "    </tr>\n",
       "  </thead>\n",
       "  <tbody>\n",
       "    <tr>\n",
       "      <th>0</th>\n",
       "      <td>76561197970982479</td>\n",
       "      <td>http://steamcommunity.com/profiles/76561197970...</td>\n",
       "      <td>2011-11-05</td>\n",
       "      <td>1250</td>\n",
       "      <td>No ratings yet</td>\n",
       "      <td>True</td>\n",
       "      <td>2</td>\n",
       "    </tr>\n",
       "    <tr>\n",
       "      <th>1</th>\n",
       "      <td>76561197970982479</td>\n",
       "      <td>http://steamcommunity.com/profiles/76561197970...</td>\n",
       "      <td>2011-07-15</td>\n",
       "      <td>22200</td>\n",
       "      <td>No ratings yet</td>\n",
       "      <td>True</td>\n",
       "      <td>2</td>\n",
       "    </tr>\n",
       "  </tbody>\n",
       "</table>\n",
       "</div>"
      ],
      "text/plain": [
       "             user_id                                           user_url  \\\n",
       "0  76561197970982479  http://steamcommunity.com/profiles/76561197970...   \n",
       "1  76561197970982479  http://steamcommunity.com/profiles/76561197970...   \n",
       "\n",
       "       posted  item_id         helpful  recommend  sentiment_analisis  \n",
       "0  2011-11-05     1250  No ratings yet       True                   2  \n",
       "1  2011-07-15    22200  No ratings yet       True                   2  "
      ]
     },
     "execution_count": 106,
     "metadata": {},
     "output_type": "execute_result"
    }
   ],
   "source": [
    "df_reviews.drop(columns=[\"funny\", \"last_edited\"], axis=1, inplace=True)\n",
    "df_reviews.head(2)"
   ]
  },
  {
   "cell_type": "markdown",
   "metadata": {},
   "source": [
    "#### b) Tratamiento Variables categóricas"
   ]
  },
  {
   "cell_type": "markdown",
   "metadata": {},
   "source": [
    "* **user_id** : identificación del usuario de plataforma\n",
    "* **recommend** : valor booleano que indica si se ha realizado review\n",
    "* **sentiment_analisis** : clasificación de las reviews en:\n",
    "    -* positivo = 2 \n",
    "    -* negativo = 0 \n",
    "    -* neutral = 1"
   ]
  },
  {
   "cell_type": "markdown",
   "metadata": {},
   "source": [
    "#### Feature `user_id`"
   ]
  },
  {
   "cell_type": "code",
   "execution_count": 108,
   "metadata": {},
   "outputs": [
    {
     "data": {
      "text/plain": [
       "25467"
      ]
     },
     "execution_count": 108,
     "metadata": {},
     "output_type": "execute_result"
    }
   ],
   "source": [
    "# se contabiliza la cantidad de usuarios de juegos Steam que hay en la plataforma \n",
    "cantidad_user_reviews= len(df_reviews[\"user_id\"].unique())\n",
    "cantidad_user_reviews"
   ]
  },
  {
   "cell_type": "markdown",
   "metadata": {},
   "source": [
    "**Conclusión**\n",
    "- En la plataforma de juegos hay 25467 usuarios `user_id` diferentes registrados "
   ]
  },
  {
   "cell_type": "markdown",
   "metadata": {},
   "source": [
    "#### Feature `recommend`"
   ]
  },
  {
   "cell_type": "markdown",
   "metadata": {},
   "source": [
    "Se cuentan la cantidad de recomendaciones hechas"
   ]
  },
  {
   "cell_type": "code",
   "execution_count": 113,
   "metadata": {},
   "outputs": [
    {
     "data": {
      "text/plain": [
       "recommend\n",
       "True     52350\n",
       "False     6811\n",
       "Name: count, dtype: int64"
      ]
     },
     "execution_count": 113,
     "metadata": {},
     "output_type": "execute_result"
    }
   ],
   "source": [
    "cant_recomendacion= df_reviews[\"recommend\"].value_counts()\n",
    "cant_recomendacion"
   ]
  },
  {
   "cell_type": "markdown",
   "metadata": {},
   "source": [
    "**Conclusión**\n",
    "- Los usuarios realizaron 52350 recomendaciones\n",
    "- Se puede deducir que cada `user_id` realizó más de una recomendación de juego"
   ]
  },
  {
   "cell_type": "markdown",
   "metadata": {},
   "source": [
    "#### Feature `sentiment_analisis`"
   ]
  },
  {
   "cell_type": "code",
   "execution_count": 114,
   "metadata": {},
   "outputs": [
    {
     "data": {
      "text/plain": [
       "sentiment_analisis\n",
       "2    26200\n",
       "1    24898\n",
       "0     8063\n",
       "Name: count, dtype: int64"
      ]
     },
     "execution_count": 114,
     "metadata": {},
     "output_type": "execute_result"
    }
   ],
   "source": [
    "#realizo el conteo de cada una de las categorias de sentimientos\n",
    "cant_sent= df_reviews[\"sentiment_analisis\"].value_counts()\n",
    "cant_sent"
   ]
  },
  {
   "cell_type": "markdown",
   "metadata": {},
   "source": [
    "**Conclusión**\n",
    "- Las reviews con sentimientos positivos fueron 26200\n",
    "- Las reviews con sentimientos neutrales fueron 24898\n",
    "- Las reviews con sentimientos negativos fueron 8063"
   ]
  },
  {
   "cell_type": "markdown",
   "metadata": {},
   "source": [
    "#### c) Tratamiento Variables numéricas\n",
    "\n",
    "* **posted** : fecha en que se realiza la review"
   ]
  },
  {
   "cell_type": "markdown",
   "metadata": {},
   "source": [
    "#### Feature `posted`"
   ]
  },
  {
   "cell_type": "code",
   "execution_count": 115,
   "metadata": {},
   "outputs": [
    {
     "data": {
      "text/plain": [
       "count          49070\n",
       "unique          1644\n",
       "top       2014-06-21\n",
       "freq             224\n",
       "Name: posted, dtype: object"
      ]
     },
     "execution_count": 115,
     "metadata": {},
     "output_type": "execute_result"
    }
   ],
   "source": [
    "fecha=df_reviews[\"posted\"].describe()\n",
    "fecha"
   ]
  },
  {
   "cell_type": "code",
   "execution_count": 126,
   "metadata": {},
   "outputs": [],
   "source": [
    "#Transformo fecha de posteo a tipo de dato datetime para poder analizarlo mejor \n",
    "df_reviews[\"posted\"]= pd.to_datetime(df_reviews[\"posted\"])"
   ]
  },
  {
   "cell_type": "markdown",
   "metadata": {},
   "source": [
    "Se grafica un histograma de fechas de posteo"
   ]
  },
  {
   "cell_type": "code",
   "execution_count": 142,
   "metadata": {},
   "outputs": [
    {
     "name": "stderr",
     "output_type": "stream",
     "text": [
      "e:\\JIME\\Desktop\\PI_1-MLOps_Juegos_Steam\\env\\Lib\\site-packages\\seaborn\\_oldcore.py:1498: FutureWarning: is_categorical_dtype is deprecated and will be removed in a future version. Use isinstance(dtype, CategoricalDtype) instead\n",
      "  if pd.api.types.is_categorical_dtype(vector):\n",
      "e:\\JIME\\Desktop\\PI_1-MLOps_Juegos_Steam\\env\\Lib\\site-packages\\seaborn\\_oldcore.py:1498: FutureWarning: is_categorical_dtype is deprecated and will be removed in a future version. Use isinstance(dtype, CategoricalDtype) instead\n",
      "  if pd.api.types.is_categorical_dtype(vector):\n",
      "e:\\JIME\\Desktop\\PI_1-MLOps_Juegos_Steam\\env\\Lib\\site-packages\\seaborn\\_oldcore.py:1498: FutureWarning: is_categorical_dtype is deprecated and will be removed in a future version. Use isinstance(dtype, CategoricalDtype) instead\n",
      "  if pd.api.types.is_categorical_dtype(vector):\n"
     ]
    },
    {
     "data": {
      "image/png": "[encoded data removed]",
      "text/plain": [
       "<Figure size 1500x500 with 1 Axes>"
      ]
     },
     "metadata": {},
     "output_type": "display_data"
    }
   ],
   "source": [
    "df_reviews['año'] = df_reviews['posted'].dt.year\n",
    "plt.figure(figsize=(15,5))\n",
    "\n",
    "plt.subplot(1,2,1)\n",
    "plt.title('Histograma Fechas de posteo')\n",
    "sns.countplot(data = df_reviews, x = 'año', palette=(\"plasma\"))\n",
    "\n",
    "plt.show()"
   ]
  },
  {
   "cell_type": "code",
   "execution_count": 143,
   "metadata": {},
   "outputs": [
    {
     "name": "stderr",
     "output_type": "stream",
     "text": [
      "e:\\JIME\\Desktop\\PI_1-MLOps_Juegos_Steam\\env\\Lib\\site-packages\\seaborn\\_oldcore.py:1498: FutureWarning: is_categorical_dtype is deprecated and will be removed in a future version. Use isinstance(dtype, CategoricalDtype) instead\n",
      "  if pd.api.types.is_categorical_dtype(vector):\n",
      "e:\\JIME\\Desktop\\PI_1-MLOps_Juegos_Steam\\env\\Lib\\site-packages\\seaborn\\_oldcore.py:1498: FutureWarning: is_categorical_dtype is deprecated and will be removed in a future version. Use isinstance(dtype, CategoricalDtype) instead\n",
      "  if pd.api.types.is_categorical_dtype(vector):\n",
      "e:\\JIME\\Desktop\\PI_1-MLOps_Juegos_Steam\\env\\Lib\\site-packages\\seaborn\\_oldcore.py:1498: FutureWarning: is_categorical_dtype is deprecated and will be removed in a future version. Use isinstance(dtype, CategoricalDtype) instead\n",
      "  if pd.api.types.is_categorical_dtype(vector):\n"
     ]
    },
    {
     "data": {
      "image/png": "[encoded data removed]",
      "text/plain": [
       "<Figure size 1500x500 with 1 Axes>"
      ]
     },
     "metadata": {},
     "output_type": "display_data"
    }
   ],
   "source": [
    "df_reviews['mes'] = df_reviews['posted'].dt.month\n",
    "plt.figure(figsize=(15,5))\n",
    "\n",
    "plt.subplot(1,2,1)\n",
    "plt.title('Histograma Fechas de posteo')\n",
    "sns.countplot(data = df_reviews, x = 'mes', palette=(\"plasma\"))\n",
    "\n",
    "plt.show()"
   ]
  },
  {
   "cell_type": "markdown",
   "metadata": {},
   "source": [
    "Se grafica un boxplot por año o mes"
   ]
  },
  {
   "cell_type": "code",
   "execution_count": 141,
   "metadata": {},
   "outputs": [
    {
     "name": "stderr",
     "output_type": "stream",
     "text": [
      "e:\\JIME\\Desktop\\PI_1-MLOps_Juegos_Steam\\env\\Lib\\site-packages\\seaborn\\_oldcore.py:1498: FutureWarning: is_categorical_dtype is deprecated and will be removed in a future version. Use isinstance(dtype, CategoricalDtype) instead\n",
      "  if pd.api.types.is_categorical_dtype(vector):\n",
      "e:\\JIME\\Desktop\\PI_1-MLOps_Juegos_Steam\\env\\Lib\\site-packages\\seaborn\\_oldcore.py:1498: FutureWarning: is_categorical_dtype is deprecated and will be removed in a future version. Use isinstance(dtype, CategoricalDtype) instead\n",
      "  if pd.api.types.is_categorical_dtype(vector):\n",
      "e:\\JIME\\Desktop\\PI_1-MLOps_Juegos_Steam\\env\\Lib\\site-packages\\seaborn\\_oldcore.py:1498: FutureWarning: is_categorical_dtype is deprecated and will be removed in a future version. Use isinstance(dtype, CategoricalDtype) instead\n",
      "  if pd.api.types.is_categorical_dtype(vector):\n"
     ]
    },
    {
     "data": {
      "image/png": "[encoded data removed]",
      "text/plain": [
       "<Figure size 1000x600 with 1 Axes>"
      ]
     },
     "metadata": {},
     "output_type": "display_data"
    },
    {
     "name": "stderr",
     "output_type": "stream",
     "text": [
      "e:\\JIME\\Desktop\\PI_1-MLOps_Juegos_Steam\\env\\Lib\\site-packages\\seaborn\\_oldcore.py:1498: FutureWarning: is_categorical_dtype is deprecated and will be removed in a future version. Use isinstance(dtype, CategoricalDtype) instead\n",
      "  if pd.api.types.is_categorical_dtype(vector):\n",
      "e:\\JIME\\Desktop\\PI_1-MLOps_Juegos_Steam\\env\\Lib\\site-packages\\seaborn\\_oldcore.py:1498: FutureWarning: is_categorical_dtype is deprecated and will be removed in a future version. Use isinstance(dtype, CategoricalDtype) instead\n",
      "  if pd.api.types.is_categorical_dtype(vector):\n",
      "e:\\JIME\\Desktop\\PI_1-MLOps_Juegos_Steam\\env\\Lib\\site-packages\\seaborn\\_oldcore.py:1498: FutureWarning: is_categorical_dtype is deprecated and will be removed in a future version. Use isinstance(dtype, CategoricalDtype) instead\n",
      "  if pd.api.types.is_categorical_dtype(vector):\n"
     ]
    },
    {
     "data": {
      "image/png": "[encoded data removed]",
      "text/plain": [
       "<Figure size 640x480 with 1 Axes>"
      ]
     },
     "metadata": {},
     "output_type": "display_data"
    }
   ],
   "source": [
    "df_reviews['año'] = df_reviews['posted'].dt.year\n",
    "df_reviews['mes'] = df_reviews['posted'].dt.month\n",
    "\n",
    "plt.figure(figsize=(10, 6))\n",
    "\n",
    "sns.boxplot(data=df_reviews, x='año', y='posted', palette=(\"plasma\"))  \n",
    "plt.xlabel('Año')\n",
    "plt.ylabel('Valor')\n",
    "plt.title('Boxplot por Año')\n",
    "plt.grid(True)\n",
    "\n",
    "plt.show()\n",
    "\n",
    "sns.boxplot(data=df_reviews, x='mes', y='posted', palette=(\"plasma\"))  \n",
    "plt.xlabel('Mes')\n",
    "plt.ylabel('Valor')\n",
    "plt.title('Boxplot por Mes')\n",
    "plt.grid(True)\n",
    "\n",
    "plt.show()"
   ]
  },
  {
   "cell_type": "markdown",
   "metadata": {},
   "source": [
    "**Conclusión**\n",
    "- La cantidad total de fechas de posteos es de 49070. Con 1644 fechas únicas\n",
    "- El valor con más frecuencia es \"2014-6-21\" que aparece un total de 224 veces, siendo la fecha de mayores posteos\n",
    "- El año con más posteos fue 2014, seguido por 2015\n",
    "- El mes con mayores posteos es Diciembre, seguido por Junio, Julio y Enero "
   ]
  },
  {
   "cell_type": "markdown",
   "metadata": {},
   "source": [
    "### 3- EDA de `user_items.parquet`"
   ]
  },
  {
   "cell_type": "markdown",
   "metadata": {},
   "source": [
    "#### a) Extracción y revisión de nulos y duplicados\n",
    "\n",
    "Se extrae el dataset que resulto luego del ETL"
   ]
  },
  {
   "cell_type": "code",
   "execution_count": 144,
   "metadata": {},
   "outputs": [
    {
     "data": {
      "text/html": [
       "<div>\n",
       "<style scoped>\n",
       "    .dataframe tbody tr th:only-of-type {\n",
       "        vertical-align: middle;\n",
       "    }\n",
       "\n",
       "    .dataframe tbody tr th {\n",
       "        vertical-align: top;\n",
       "    }\n",
       "\n",
       "    .dataframe thead th {\n",
       "        text-align: right;\n",
       "    }\n",
       "</style>\n",
       "<table border=\"1\" class=\"dataframe\">\n",
       "  <thead>\n",
       "    <tr style=\"text-align: right;\">\n",
       "      <th></th>\n",
       "      <th>item_id</th>\n",
       "      <th>item_name</th>\n",
       "      <th>playtime_forever</th>\n",
       "      <th>steam_id</th>\n",
       "      <th>items_count</th>\n",
       "      <th>user_id</th>\n",
       "      <th>user_url</th>\n",
       "    </tr>\n",
       "  </thead>\n",
       "  <tbody>\n",
       "    <tr>\n",
       "      <th>0</th>\n",
       "      <td>10</td>\n",
       "      <td>Counter-Strike</td>\n",
       "      <td>6</td>\n",
       "      <td>76561197970982479</td>\n",
       "      <td>277</td>\n",
       "      <td>76561197970982479</td>\n",
       "      <td>http://steamcommunity.com/profiles/76561197970...</td>\n",
       "    </tr>\n",
       "    <tr>\n",
       "      <th>1</th>\n",
       "      <td>20</td>\n",
       "      <td>Team Fortress Classic</td>\n",
       "      <td>0</td>\n",
       "      <td>76561197970982479</td>\n",
       "      <td>277</td>\n",
       "      <td>76561197970982479</td>\n",
       "      <td>http://steamcommunity.com/profiles/76561197970...</td>\n",
       "    </tr>\n",
       "    <tr>\n",
       "      <th>2</th>\n",
       "      <td>30</td>\n",
       "      <td>Day of Defeat</td>\n",
       "      <td>7</td>\n",
       "      <td>76561197970982479</td>\n",
       "      <td>277</td>\n",
       "      <td>76561197970982479</td>\n",
       "      <td>http://steamcommunity.com/profiles/76561197970...</td>\n",
       "    </tr>\n",
       "    <tr>\n",
       "      <th>3</th>\n",
       "      <td>40</td>\n",
       "      <td>Deathmatch Classic</td>\n",
       "      <td>0</td>\n",
       "      <td>76561197970982479</td>\n",
       "      <td>277</td>\n",
       "      <td>76561197970982479</td>\n",
       "      <td>http://steamcommunity.com/profiles/76561197970...</td>\n",
       "    </tr>\n",
       "    <tr>\n",
       "      <th>4</th>\n",
       "      <td>50</td>\n",
       "      <td>Half-Life: Opposing Force</td>\n",
       "      <td>0</td>\n",
       "      <td>76561197970982479</td>\n",
       "      <td>277</td>\n",
       "      <td>76561197970982479</td>\n",
       "      <td>http://steamcommunity.com/profiles/76561197970...</td>\n",
       "    </tr>\n",
       "    <tr>\n",
       "      <th>...</th>\n",
       "      <td>...</td>\n",
       "      <td>...</td>\n",
       "      <td>...</td>\n",
       "      <td>...</td>\n",
       "      <td>...</td>\n",
       "      <td>...</td>\n",
       "      <td>...</td>\n",
       "    </tr>\n",
       "    <tr>\n",
       "      <th>5094100</th>\n",
       "      <td>346330</td>\n",
       "      <td>BrainBread 2</td>\n",
       "      <td>0</td>\n",
       "      <td>76561198329548331</td>\n",
       "      <td>7</td>\n",
       "      <td>76561198329548331</td>\n",
       "      <td>http://steamcommunity.com/profiles/76561198329...</td>\n",
       "    </tr>\n",
       "    <tr>\n",
       "      <th>5094101</th>\n",
       "      <td>373330</td>\n",
       "      <td>All Is Dust</td>\n",
       "      <td>0</td>\n",
       "      <td>76561198329548331</td>\n",
       "      <td>7</td>\n",
       "      <td>76561198329548331</td>\n",
       "      <td>http://steamcommunity.com/profiles/76561198329...</td>\n",
       "    </tr>\n",
       "    <tr>\n",
       "      <th>5094102</th>\n",
       "      <td>388490</td>\n",
       "      <td>One Way To Die: Steam Edition</td>\n",
       "      <td>3</td>\n",
       "      <td>76561198329548331</td>\n",
       "      <td>7</td>\n",
       "      <td>76561198329548331</td>\n",
       "      <td>http://steamcommunity.com/profiles/76561198329...</td>\n",
       "    </tr>\n",
       "    <tr>\n",
       "      <th>5094103</th>\n",
       "      <td>521570</td>\n",
       "      <td>You Have 10 Seconds 2</td>\n",
       "      <td>4</td>\n",
       "      <td>76561198329548331</td>\n",
       "      <td>7</td>\n",
       "      <td>76561198329548331</td>\n",
       "      <td>http://steamcommunity.com/profiles/76561198329...</td>\n",
       "    </tr>\n",
       "    <tr>\n",
       "      <th>5094104</th>\n",
       "      <td>519140</td>\n",
       "      <td>Minds Eyes</td>\n",
       "      <td>3</td>\n",
       "      <td>76561198329548331</td>\n",
       "      <td>7</td>\n",
       "      <td>76561198329548331</td>\n",
       "      <td>http://steamcommunity.com/profiles/76561198329...</td>\n",
       "    </tr>\n",
       "  </tbody>\n",
       "</table>\n",
       "<p>5094105 rows × 7 columns</p>\n",
       "</div>"
      ],
      "text/plain": [
       "         item_id                      item_name  playtime_forever  \\\n",
       "0             10                 Counter-Strike                 6   \n",
       "1             20          Team Fortress Classic                 0   \n",
       "2             30                  Day of Defeat                 7   \n",
       "3             40             Deathmatch Classic                 0   \n",
       "4             50      Half-Life: Opposing Force                 0   \n",
       "...          ...                            ...               ...   \n",
       "5094100   346330                   BrainBread 2                 0   \n",
       "5094101   373330                    All Is Dust                 0   \n",
       "5094102   388490  One Way To Die: Steam Edition                 3   \n",
       "5094103   521570          You Have 10 Seconds 2                 4   \n",
       "5094104   519140                     Minds Eyes                 3   \n",
       "\n",
       "                  steam_id  items_count            user_id  \\\n",
       "0        76561197970982479          277  76561197970982479   \n",
       "1        76561197970982479          277  76561197970982479   \n",
       "2        76561197970982479          277  76561197970982479   \n",
       "3        76561197970982479          277  76561197970982479   \n",
       "4        76561197970982479          277  76561197970982479   \n",
       "...                    ...          ...                ...   \n",
       "5094100  76561198329548331            7  76561198329548331   \n",
       "5094101  76561198329548331            7  76561198329548331   \n",
       "5094102  76561198329548331            7  76561198329548331   \n",
       "5094103  76561198329548331            7  76561198329548331   \n",
       "5094104  76561198329548331            7  76561198329548331   \n",
       "\n",
       "                                                  user_url  \n",
       "0        http://steamcommunity.com/profiles/76561197970...  \n",
       "1        http://steamcommunity.com/profiles/76561197970...  \n",
       "2        http://steamcommunity.com/profiles/76561197970...  \n",
       "3        http://steamcommunity.com/profiles/76561197970...  \n",
       "4        http://steamcommunity.com/profiles/76561197970...  \n",
       "...                                                    ...  \n",
       "5094100  http://steamcommunity.com/profiles/76561198329...  \n",
       "5094101  http://steamcommunity.com/profiles/76561198329...  \n",
       "5094102  http://steamcommunity.com/profiles/76561198329...  \n",
       "5094103  http://steamcommunity.com/profiles/76561198329...  \n",
       "5094104  http://steamcommunity.com/profiles/76561198329...  \n",
       "\n",
       "[5094105 rows x 7 columns]"
      ]
     },
     "execution_count": 144,
     "metadata": {},
     "output_type": "execute_result"
    }
   ],
   "source": [
    "df_items=pd.read_parquet(\"data/user_items.parquet\")\n",
    "df_items"
   ]
  },
  {
   "cell_type": "code",
   "execution_count": 145,
   "metadata": {},
   "outputs": [
    {
     "name": "stdout",
     "output_type": "stream",
     "text": [
      "<class 'pandas.core.frame.DataFrame'>\n",
      "RangeIndex: 5094105 entries, 0 to 5094104\n",
      "Data columns (total 7 columns):\n",
      " #   Column            Dtype \n",
      "---  ------            ----- \n",
      " 0   item_id           int64 \n",
      " 1   item_name         object\n",
      " 2   playtime_forever  int64 \n",
      " 3   steam_id          int64 \n",
      " 4   items_count       int64 \n",
      " 5   user_id           object\n",
      " 6   user_url          object\n",
      "dtypes: int64(4), object(3)\n",
      "memory usage: 272.1+ MB\n"
     ]
    }
   ],
   "source": [
    "df_items.info()"
   ]
  },
  {
   "cell_type": "code",
   "execution_count": 146,
   "metadata": {},
   "outputs": [
    {
     "data": {
      "text/html": [
       "<div>\n",
       "<style scoped>\n",
       "    .dataframe tbody tr th:only-of-type {\n",
       "        vertical-align: middle;\n",
       "    }\n",
       "\n",
       "    .dataframe tbody tr th {\n",
       "        vertical-align: top;\n",
       "    }\n",
       "\n",
       "    .dataframe thead th {\n",
       "        text-align: right;\n",
       "    }\n",
       "</style>\n",
       "<table border=\"1\" class=\"dataframe\">\n",
       "  <thead>\n",
       "    <tr style=\"text-align: right;\">\n",
       "      <th></th>\n",
       "      <th>item_id</th>\n",
       "      <th>playtime_forever</th>\n",
       "      <th>steam_id</th>\n",
       "      <th>items_count</th>\n",
       "    </tr>\n",
       "  </thead>\n",
       "  <tbody>\n",
       "    <tr>\n",
       "      <th>count</th>\n",
       "      <td>5.094105e+06</td>\n",
       "      <td>5.094105e+06</td>\n",
       "      <td>5.094105e+06</td>\n",
       "      <td>5.094105e+06</td>\n",
       "    </tr>\n",
       "    <tr>\n",
       "      <th>mean</th>\n",
       "      <td>1.783916e+05</td>\n",
       "      <td>9.905511e+02</td>\n",
       "      <td>7.656120e+16</td>\n",
       "      <td>3.157324e+02</td>\n",
       "    </tr>\n",
       "    <tr>\n",
       "      <th>std</th>\n",
       "      <td>1.318516e+05</td>\n",
       "      <td>5.414297e+03</td>\n",
       "      <td>3.917652e+07</td>\n",
       "      <td>6.969073e+02</td>\n",
       "    </tr>\n",
       "    <tr>\n",
       "      <th>min</th>\n",
       "      <td>1.000000e+01</td>\n",
       "      <td>0.000000e+00</td>\n",
       "      <td>7.656120e+16</td>\n",
       "      <td>1.000000e+00</td>\n",
       "    </tr>\n",
       "    <tr>\n",
       "      <th>25%</th>\n",
       "      <td>3.445000e+04</td>\n",
       "      <td>0.000000e+00</td>\n",
       "      <td>7.656120e+16</td>\n",
       "      <td>7.100000e+01</td>\n",
       "    </tr>\n",
       "    <tr>\n",
       "      <th>50%</th>\n",
       "      <td>2.144200e+05</td>\n",
       "      <td>3.400000e+01</td>\n",
       "      <td>7.656120e+16</td>\n",
       "      <td>1.370000e+02</td>\n",
       "    </tr>\n",
       "    <tr>\n",
       "      <th>75%</th>\n",
       "      <td>2.664300e+05</td>\n",
       "      <td>3.550000e+02</td>\n",
       "      <td>7.656120e+16</td>\n",
       "      <td>2.750000e+02</td>\n",
       "    </tr>\n",
       "    <tr>\n",
       "      <th>max</th>\n",
       "      <td>5.307200e+05</td>\n",
       "      <td>6.427730e+05</td>\n",
       "      <td>7.656120e+16</td>\n",
       "      <td>7.762000e+03</td>\n",
       "    </tr>\n",
       "  </tbody>\n",
       "</table>\n",
       "</div>"
      ],
      "text/plain": [
       "            item_id  playtime_forever      steam_id   items_count\n",
       "count  5.094105e+06      5.094105e+06  5.094105e+06  5.094105e+06\n",
       "mean   1.783916e+05      9.905511e+02  7.656120e+16  3.157324e+02\n",
       "std    1.318516e+05      5.414297e+03  3.917652e+07  6.969073e+02\n",
       "min    1.000000e+01      0.000000e+00  7.656120e+16  1.000000e+00\n",
       "25%    3.445000e+04      0.000000e+00  7.656120e+16  7.100000e+01\n",
       "50%    2.144200e+05      3.400000e+01  7.656120e+16  1.370000e+02\n",
       "75%    2.664300e+05      3.550000e+02  7.656120e+16  2.750000e+02\n",
       "max    5.307200e+05      6.427730e+05  7.656120e+16  7.762000e+03"
      ]
     },
     "execution_count": 146,
     "metadata": {},
     "output_type": "execute_result"
    }
   ],
   "source": [
    "df_items.describe()"
   ]
  },
  {
   "cell_type": "code",
   "execution_count": 147,
   "metadata": {},
   "outputs": [
    {
     "data": {
      "text/plain": [
       "item_id             0\n",
       "item_name           0\n",
       "playtime_forever    0\n",
       "steam_id            0\n",
       "items_count         0\n",
       "user_id             0\n",
       "user_url            0\n",
       "dtype: int64"
      ]
     },
     "execution_count": 147,
     "metadata": {},
     "output_type": "execute_result"
    }
   ],
   "source": [
    "df_items.isnull().sum()"
   ]
  },
  {
   "cell_type": "markdown",
   "metadata": {},
   "source": [
    "#### b) Tratamiento Variables categóricas"
   ]
  },
  {
   "cell_type": "markdown",
   "metadata": {},
   "source": [
    "* **item_name** : titulo del juego Steam"
   ]
  },
  {
   "cell_type": "markdown",
   "metadata": {},
   "source": [
    "#### Feature `item_name`"
   ]
  },
  {
   "cell_type": "code",
   "execution_count": 152,
   "metadata": {},
   "outputs": [
    {
     "data": {
      "text/plain": [
       "10947"
      ]
     },
     "execution_count": 152,
     "metadata": {},
     "output_type": "execute_result"
    }
   ],
   "source": [
    "#conteo de titulos totales\n",
    "cant_juegos= len(df_items[\"item_name\"].unique())\n",
    "cant_juegos"
   ]
  },
  {
   "cell_type": "code",
   "execution_count": 148,
   "metadata": {},
   "outputs": [
    {
     "data": {
      "text/plain": [
       "item_name\n",
       "Dota 2 Test                               49136\n",
       "Counter-Strike: Global Offensive          43336\n",
       "Garry's Mod                               42849\n",
       "Unturned                                  38278\n",
       "Left 4 Dead 2 Beta                        36661\n",
       "                                          ...  \n",
       "Preston Sterling                              1\n",
       "Happy Town People                             1\n",
       "Kapsul Infinite                               1\n",
       "Warhammer 40,000: Armageddon - Da Orks        1\n",
       "Arachnophobia                                 1\n",
       "Name: count, Length: 10947, dtype: int64"
      ]
     },
     "execution_count": 148,
     "metadata": {},
     "output_type": "execute_result"
    }
   ],
   "source": [
    "#conteo por titulo \n",
    "juego = df_items[\"item_name\"].value_counts()\n",
    "juego"
   ]
  },
  {
   "cell_type": "markdown",
   "metadata": {},
   "source": [
    "**Conclusión**\n",
    "- La cantidad de títulos de juegos Steam en la plataforma es de 10947\n",
    "- Los juegos que se repiten con mayor frecuencia en el conteo son Dota 2 Test (49136), le sigue Counter-Strike:Global Offensive (43336) y Garry`s Mod (42849)"
   ]
  },
  {
   "cell_type": "markdown",
   "metadata": {},
   "source": [
    "#### c) Tratamiento Variables numéricas"
   ]
  },
  {
   "cell_type": "markdown",
   "metadata": {},
   "source": [
    "* **items_count** : cantidad de juegos Steam que consume un usuario\n",
    "* **playtime_forever** : cantidad de tiempo que juega un usuario"
   ]
  },
  {
   "cell_type": "markdown",
   "metadata": {},
   "source": [
    "#### Feature `items_count`"
   ]
  },
  {
   "cell_type": "code",
   "execution_count": 155,
   "metadata": {},
   "outputs": [
    {
     "data": {
      "text/html": [
       "<div>\n",
       "<style scoped>\n",
       "    .dataframe tbody tr th:only-of-type {\n",
       "        vertical-align: middle;\n",
       "    }\n",
       "\n",
       "    .dataframe tbody tr th {\n",
       "        vertical-align: top;\n",
       "    }\n",
       "\n",
       "    .dataframe thead th {\n",
       "        text-align: right;\n",
       "    }\n",
       "</style>\n",
       "<table border=\"1\" class=\"dataframe\">\n",
       "  <thead>\n",
       "    <tr style=\"text-align: right;\">\n",
       "      <th></th>\n",
       "      <th>items_count</th>\n",
       "    </tr>\n",
       "    <tr>\n",
       "      <th>user_id</th>\n",
       "      <th></th>\n",
       "    </tr>\n",
       "  </thead>\n",
       "  <tbody>\n",
       "    <tr>\n",
       "      <th>phrostb</th>\n",
       "      <td>7762</td>\n",
       "    </tr>\n",
       "    <tr>\n",
       "      <th>thugnificent</th>\n",
       "      <td>6700</td>\n",
       "    </tr>\n",
       "    <tr>\n",
       "      <th>chidvd</th>\n",
       "      <td>6410</td>\n",
       "    </tr>\n",
       "    <tr>\n",
       "      <th>piepai</th>\n",
       "      <td>6132</td>\n",
       "    </tr>\n",
       "    <tr>\n",
       "      <th>mayshowganmore</th>\n",
       "      <td>5027</td>\n",
       "    </tr>\n",
       "    <tr>\n",
       "      <th>...</th>\n",
       "      <td>...</td>\n",
       "    </tr>\n",
       "    <tr>\n",
       "      <th>76561198092978311</th>\n",
       "      <td>1</td>\n",
       "    </tr>\n",
       "    <tr>\n",
       "      <th>76561198092984441</th>\n",
       "      <td>1</td>\n",
       "    </tr>\n",
       "    <tr>\n",
       "      <th>76561198092985047</th>\n",
       "      <td>1</td>\n",
       "    </tr>\n",
       "    <tr>\n",
       "      <th>76561198092995747</th>\n",
       "      <td>1</td>\n",
       "    </tr>\n",
       "    <tr>\n",
       "      <th>JMCaesar</th>\n",
       "      <td>1</td>\n",
       "    </tr>\n",
       "  </tbody>\n",
       "</table>\n",
       "<p>70912 rows × 1 columns</p>\n",
       "</div>"
      ],
      "text/plain": [
       "                  items_count\n",
       "user_id                      \n",
       "phrostb                  7762\n",
       "thugnificent             6700\n",
       "chidvd                   6410\n",
       "piepai                   6132\n",
       "mayshowganmore           5027\n",
       "...                       ...\n",
       "76561198092978311           1\n",
       "76561198092984441           1\n",
       "76561198092985047           1\n",
       "76561198092995747           1\n",
       "JMCaesar                    1\n",
       "\n",
       "[70912 rows x 1 columns]"
      ]
     },
     "execution_count": 155,
     "metadata": {},
     "output_type": "execute_result"
    }
   ],
   "source": [
    "# Agrupa por usuario la cantidad de items, lo conviente en data frame y los ordena de mayor a menor\n",
    "items_count = df_items.groupby('user_id')['items_count'].unique().explode()\n",
    "items_count= pd.DataFrame(items_count)\n",
    "items_count_user = items_count.sort_values('items_count', ascending=False)\n",
    "items_count_user"
   ]
  },
  {
   "cell_type": "code",
   "execution_count": 156,
   "metadata": {},
   "outputs": [
    {
     "name": "stderr",
     "output_type": "stream",
     "text": [
      "e:\\JIME\\Desktop\\PI_1-MLOps_Juegos_Steam\\env\\Lib\\site-packages\\seaborn\\_oldcore.py:1498: FutureWarning: is_categorical_dtype is deprecated and will be removed in a future version. Use isinstance(dtype, CategoricalDtype) instead\n",
      "  if pd.api.types.is_categorical_dtype(vector):\n",
      "e:\\JIME\\Desktop\\PI_1-MLOps_Juegos_Steam\\env\\Lib\\site-packages\\seaborn\\_oldcore.py:1498: FutureWarning: is_categorical_dtype is deprecated and will be removed in a future version. Use isinstance(dtype, CategoricalDtype) instead\n",
      "  if pd.api.types.is_categorical_dtype(vector):\n",
      "e:\\JIME\\Desktop\\PI_1-MLOps_Juegos_Steam\\env\\Lib\\site-packages\\seaborn\\_oldcore.py:1498: FutureWarning: is_categorical_dtype is deprecated and will be removed in a future version. Use isinstance(dtype, CategoricalDtype) instead\n",
      "  if pd.api.types.is_categorical_dtype(vector):\n",
      "e:\\JIME\\Desktop\\PI_1-MLOps_Juegos_Steam\\env\\Lib\\site-packages\\seaborn\\_oldcore.py:1498: FutureWarning: is_categorical_dtype is deprecated and will be removed in a future version. Use isinstance(dtype, CategoricalDtype) instead\n",
      "  if pd.api.types.is_categorical_dtype(vector):\n",
      "e:\\JIME\\Desktop\\PI_1-MLOps_Juegos_Steam\\env\\Lib\\site-packages\\seaborn\\_oldcore.py:1498: FutureWarning: is_categorical_dtype is deprecated and will be removed in a future version. Use isinstance(dtype, CategoricalDtype) instead\n",
      "  if pd.api.types.is_categorical_dtype(vector):\n",
      "e:\\JIME\\Desktop\\PI_1-MLOps_Juegos_Steam\\env\\Lib\\site-packages\\seaborn\\_oldcore.py:1119: FutureWarning: use_inf_as_na option is deprecated and will be removed in a future version. Convert inf values to NaN before operating instead.\n",
      "  with pd.option_context('mode.use_inf_as_na', True):\n",
      "e:\\JIME\\Desktop\\PI_1-MLOps_Juegos_Steam\\env\\Lib\\site-packages\\seaborn\\_oldcore.py:1119: FutureWarning: use_inf_as_na option is deprecated and will be removed in a future version. Convert inf values to NaN before operating instead.\n",
      "  with pd.option_context('mode.use_inf_as_na', True):\n",
      "e:\\JIME\\Desktop\\PI_1-MLOps_Juegos_Steam\\env\\Lib\\site-packages\\seaborn\\_oldcore.py:1498: FutureWarning: is_categorical_dtype is deprecated and will be removed in a future version. Use isinstance(dtype, CategoricalDtype) instead\n",
      "  if pd.api.types.is_categorical_dtype(vector):\n"
     ]
    },
    {
     "data": {
      "image/png": "[encoded data removed]",
      "text/plain": [
       "<Figure size 1400x400 with 2 Axes>"
      ]
     },
     "metadata": {},
     "output_type": "display_data"
    }
   ],
   "source": [
    "fig = plt.figure(figsize=(14, 4))\n",
    "\n",
    "ax1 = fig.add_subplot(211)\n",
    "sns.stripplot(data=items_count_user, x='items_count', ax=ax1, color=\"orange\")\n",
    "ax1.set_xlabel('items_count') ; ax1.set_title('Cantidad de items por usuarios')\n",
    "\n",
    "ax2 = fig.add_subplot(212, sharex=ax1)\n",
    "sns.boxplot(data=items_count_user, x='items_count', ax=ax2, palette=\"plasma\")\n",
    "ax2.set_xlabel('items_count')\n",
    "\n",
    "# Muestra y ajustar el espaciado entre subplots\n",
    "plt.tight_layout()\n",
    "plt.show()"
   ]
  },
  {
   "cell_type": "code",
   "execution_count": 157,
   "metadata": {},
   "outputs": [
    {
     "data": {
      "text/html": [
       "<div>\n",
       "<style scoped>\n",
       "    .dataframe tbody tr th:only-of-type {\n",
       "        vertical-align: middle;\n",
       "    }\n",
       "\n",
       "    .dataframe tbody tr th {\n",
       "        vertical-align: top;\n",
       "    }\n",
       "\n",
       "    .dataframe thead th {\n",
       "        text-align: right;\n",
       "    }\n",
       "</style>\n",
       "<table border=\"1\" class=\"dataframe\">\n",
       "  <thead>\n",
       "    <tr style=\"text-align: right;\">\n",
       "      <th></th>\n",
       "      <th>items_count</th>\n",
       "    </tr>\n",
       "  </thead>\n",
       "  <tbody>\n",
       "    <tr>\n",
       "      <th>count</th>\n",
       "      <td>70912</td>\n",
       "    </tr>\n",
       "    <tr>\n",
       "      <th>unique</th>\n",
       "      <td>924</td>\n",
       "    </tr>\n",
       "    <tr>\n",
       "      <th>top</th>\n",
       "      <td>1</td>\n",
       "    </tr>\n",
       "    <tr>\n",
       "      <th>freq</th>\n",
       "      <td>3303</td>\n",
       "    </tr>\n",
       "  </tbody>\n",
       "</table>\n",
       "</div>"
      ],
      "text/plain": [
       "        items_count\n",
       "count         70912\n",
       "unique          924\n",
       "top               1\n",
       "freq           3303"
      ]
     },
     "execution_count": 157,
     "metadata": {},
     "output_type": "execute_result"
    }
   ],
   "source": [
    "items_count_user.describe()"
   ]
  },
  {
   "cell_type": "markdown",
   "metadata": {},
   "source": [
    "**Conclusión**\n",
    "- La cantidad total de Items o juegos consumidos es de 70912. \n",
    "- El valor que se repite con mayor frecuencia (3303 veces) es de 1\n",
    "- El `user_id` con más cantidad de juegos consumidos es `phrostb` con 7762, seguido de `thugnificent` con 6700\n"
   ]
  },
  {
   "cell_type": "markdown",
   "metadata": {},
   "source": [
    "#### Feature `playtime_forever`"
   ]
  },
  {
   "cell_type": "code",
   "execution_count": 164,
   "metadata": {},
   "outputs": [
    {
     "data": {
      "text/html": [
       "<div>\n",
       "<style scoped>\n",
       "    .dataframe tbody tr th:only-of-type {\n",
       "        vertical-align: middle;\n",
       "    }\n",
       "\n",
       "    .dataframe tbody tr th {\n",
       "        vertical-align: top;\n",
       "    }\n",
       "\n",
       "    .dataframe thead th {\n",
       "        text-align: right;\n",
       "    }\n",
       "</style>\n",
       "<table border=\"1\" class=\"dataframe\">\n",
       "  <thead>\n",
       "    <tr style=\"text-align: right;\">\n",
       "      <th></th>\n",
       "      <th>playtime_forever</th>\n",
       "    </tr>\n",
       "    <tr>\n",
       "      <th>user_id</th>\n",
       "      <th></th>\n",
       "    </tr>\n",
       "  </thead>\n",
       "  <tbody>\n",
       "    <tr>\n",
       "      <th>wolop</th>\n",
       "      <td>642773</td>\n",
       "    </tr>\n",
       "    <tr>\n",
       "      <th>Evilutional</th>\n",
       "      <td>635295</td>\n",
       "    </tr>\n",
       "    <tr>\n",
       "      <th>76561198019826668</th>\n",
       "      <td>632452</td>\n",
       "    </tr>\n",
       "    <tr>\n",
       "      <th>76561198039832932</th>\n",
       "      <td>613411</td>\n",
       "    </tr>\n",
       "    <tr>\n",
       "      <th>tsunamitad</th>\n",
       "      <td>600068</td>\n",
       "    </tr>\n",
       "    <tr>\n",
       "      <th>...</th>\n",
       "      <td>...</td>\n",
       "    </tr>\n",
       "    <tr>\n",
       "      <th>76561198031798372</th>\n",
       "      <td>0</td>\n",
       "    </tr>\n",
       "    <tr>\n",
       "      <th>Cjixeres</th>\n",
       "      <td>0</td>\n",
       "    </tr>\n",
       "    <tr>\n",
       "      <th>76561198085797241</th>\n",
       "      <td>0</td>\n",
       "    </tr>\n",
       "    <tr>\n",
       "      <th>nbohlsen</th>\n",
       "      <td>0</td>\n",
       "    </tr>\n",
       "    <tr>\n",
       "      <th>theonemlst</th>\n",
       "      <td>0</td>\n",
       "    </tr>\n",
       "  </tbody>\n",
       "</table>\n",
       "<p>2890282 rows × 1 columns</p>\n",
       "</div>"
      ],
      "text/plain": [
       "                  playtime_forever\n",
       "user_id                           \n",
       "wolop                       642773\n",
       "Evilutional                 635295\n",
       "76561198019826668           632452\n",
       "76561198039832932           613411\n",
       "tsunamitad                  600068\n",
       "...                            ...\n",
       "76561198031798372                0\n",
       "Cjixeres                         0\n",
       "76561198085797241                0\n",
       "nbohlsen                         0\n",
       "theonemlst                       0\n",
       "\n",
       "[2890282 rows x 1 columns]"
      ]
     },
     "execution_count": 164,
     "metadata": {},
     "output_type": "execute_result"
    }
   ],
   "source": [
    "#Agrupo usuarios por tiempo, lo guardo en un nuevo dataframe y ordeno \n",
    "time_count = df_items.groupby('user_id')['playtime_forever'].unique().explode()\n",
    "time_count= pd.DataFrame(time_count)\n",
    "time_count_user = time_count.sort_values('playtime_forever', ascending=False)\n",
    "time_count_user"
   ]
  },
  {
   "cell_type": "code",
   "execution_count": 166,
   "metadata": {},
   "outputs": [
    {
     "name": "stderr",
     "output_type": "stream",
     "text": [
      "e:\\JIME\\Desktop\\PI_1-MLOps_Juegos_Steam\\env\\Lib\\site-packages\\seaborn\\_oldcore.py:1498: FutureWarning: is_categorical_dtype is deprecated and will be removed in a future version. Use isinstance(dtype, CategoricalDtype) instead\n",
      "  if pd.api.types.is_categorical_dtype(vector):\n",
      "e:\\JIME\\Desktop\\PI_1-MLOps_Juegos_Steam\\env\\Lib\\site-packages\\seaborn\\_oldcore.py:1498: FutureWarning: is_categorical_dtype is deprecated and will be removed in a future version. Use isinstance(dtype, CategoricalDtype) instead\n",
      "  if pd.api.types.is_categorical_dtype(vector):\n",
      "e:\\JIME\\Desktop\\PI_1-MLOps_Juegos_Steam\\env\\Lib\\site-packages\\seaborn\\_oldcore.py:1498: FutureWarning: is_categorical_dtype is deprecated and will be removed in a future version. Use isinstance(dtype, CategoricalDtype) instead\n",
      "  if pd.api.types.is_categorical_dtype(vector):\n",
      "e:\\JIME\\Desktop\\PI_1-MLOps_Juegos_Steam\\env\\Lib\\site-packages\\seaborn\\_oldcore.py:1498: FutureWarning: is_categorical_dtype is deprecated and will be removed in a future version. Use isinstance(dtype, CategoricalDtype) instead\n",
      "  if pd.api.types.is_categorical_dtype(vector):\n",
      "e:\\JIME\\Desktop\\PI_1-MLOps_Juegos_Steam\\env\\Lib\\site-packages\\seaborn\\_oldcore.py:1498: FutureWarning: is_categorical_dtype is deprecated and will be removed in a future version. Use isinstance(dtype, CategoricalDtype) instead\n",
      "  if pd.api.types.is_categorical_dtype(vector):\n",
      "e:\\JIME\\Desktop\\PI_1-MLOps_Juegos_Steam\\env\\Lib\\site-packages\\seaborn\\_oldcore.py:1119: FutureWarning: use_inf_as_na option is deprecated and will be removed in a future version. Convert inf values to NaN before operating instead.\n",
      "  with pd.option_context('mode.use_inf_as_na', True):\n",
      "e:\\JIME\\Desktop\\PI_1-MLOps_Juegos_Steam\\env\\Lib\\site-packages\\seaborn\\_oldcore.py:1119: FutureWarning: use_inf_as_na option is deprecated and will be removed in a future version. Convert inf values to NaN before operating instead.\n",
      "  with pd.option_context('mode.use_inf_as_na', True):\n",
      "e:\\JIME\\Desktop\\PI_1-MLOps_Juegos_Steam\\env\\Lib\\site-packages\\seaborn\\_oldcore.py:1498: FutureWarning: is_categorical_dtype is deprecated and will be removed in a future version. Use isinstance(dtype, CategoricalDtype) instead\n",
      "  if pd.api.types.is_categorical_dtype(vector):\n"
     ]
    },
    {
     "data": {
      "image/png": "[encoded data removed]",
      "text/plain": [
       "<Figure size 1400x400 with 2 Axes>"
      ]
     },
     "metadata": {},
     "output_type": "display_data"
    }
   ],
   "source": [
    "fig = plt.figure(figsize=(14, 4))\n",
    "\n",
    "ax1 = fig.add_subplot(211)\n",
    "sns.stripplot(data=time_count_user, x='playtime_forever', ax=ax1, color=\"orange\")\n",
    "ax1.set_xlabel('playtime_forever') ; ax1.set_title('Cantidad de tiempo por usuarios')\n",
    "\n",
    "ax2 = fig.add_subplot(212, sharex=ax1)\n",
    "sns.boxplot(data=time_count_user, x='playtime_forever', ax=ax2, palette=\"plasma\")\n",
    "ax2.set_xlabel('playtime_forever')\n",
    "\n",
    "# Muestra y ajustar el espaciado entre subplots\n",
    "plt.tight_layout()\n",
    "plt.show()"
   ]
  },
  {
   "cell_type": "code",
   "execution_count": 167,
   "metadata": {},
   "outputs": [
    {
     "data": {
      "text/html": [
       "<div>\n",
       "<style scoped>\n",
       "    .dataframe tbody tr th:only-of-type {\n",
       "        vertical-align: middle;\n",
       "    }\n",
       "\n",
       "    .dataframe tbody tr th {\n",
       "        vertical-align: top;\n",
       "    }\n",
       "\n",
       "    .dataframe thead th {\n",
       "        text-align: right;\n",
       "    }\n",
       "</style>\n",
       "<table border=\"1\" class=\"dataframe\">\n",
       "  <thead>\n",
       "    <tr style=\"text-align: right;\">\n",
       "      <th></th>\n",
       "      <th>playtime_forever</th>\n",
       "    </tr>\n",
       "  </thead>\n",
       "  <tbody>\n",
       "    <tr>\n",
       "      <th>count</th>\n",
       "      <td>2890282</td>\n",
       "    </tr>\n",
       "    <tr>\n",
       "      <th>unique</th>\n",
       "      <td>48861</td>\n",
       "    </tr>\n",
       "    <tr>\n",
       "      <th>top</th>\n",
       "      <td>0</td>\n",
       "    </tr>\n",
       "    <tr>\n",
       "      <th>freq</th>\n",
       "      <td>66878</td>\n",
       "    </tr>\n",
       "  </tbody>\n",
       "</table>\n",
       "</div>"
      ],
      "text/plain": [
       "        playtime_forever\n",
       "count            2890282\n",
       "unique             48861\n",
       "top                    0\n",
       "freq               66878"
      ]
     },
     "execution_count": 167,
     "metadata": {},
     "output_type": "execute_result"
    }
   ],
   "source": [
    "time_count_user.describe()"
   ]
  },
  {
   "cell_type": "markdown",
   "metadata": {},
   "source": [
    "**Conclusión**\n",
    "- La cantidad total de tiempo jugado o consumidos es de 2890282, suponiendo sean minutos; la cantidad de horas es 48:17hs. \n",
    "- El valor que se repite con mayor frecuencia (48861 veces) es de 0; entonces la mayoría de los usuarios no alcanzan a jugar 1 hora\n",
    "- El `user_id` con más cantidad de tiempo consumido en juegos Steam es `wolop` con 642773 , seguido de `Evilutional` con 635295 y muy cercano `76561198019826668` con 632452."
   ]
  },
  {
   "cell_type": "markdown",
   "metadata": {},
   "source": [
    "## Preparación de dataset para el modelo de recomendación"
   ]
  },
  {
   "cell_type": "code",
   "execution_count": 4,
   "metadata": {},
   "outputs": [
    {
     "data": {
      "text/html": [
       "<div>\n",
       "<style scoped>\n",
       "    .dataframe tbody tr th:only-of-type {\n",
       "        vertical-align: middle;\n",
       "    }\n",
       "\n",
       "    .dataframe tbody tr th {\n",
       "        vertical-align: top;\n",
       "    }\n",
       "\n",
       "    .dataframe thead th {\n",
       "        text-align: right;\n",
       "    }\n",
       "</style>\n",
       "<table border=\"1\" class=\"dataframe\">\n",
       "  <thead>\n",
       "    <tr style=\"text-align: right;\">\n",
       "      <th></th>\n",
       "      <th>genres</th>\n",
       "      <th>url</th>\n",
       "      <th>release_date</th>\n",
       "      <th>tags</th>\n",
       "      <th>reviews_url</th>\n",
       "      <th>discount_price</th>\n",
       "      <th>specs</th>\n",
       "      <th>price</th>\n",
       "      <th>early_access</th>\n",
       "      <th>id</th>\n",
       "      <th>metascore</th>\n",
       "      <th>Año_estreno</th>\n",
       "      <th>publisher</th>\n",
       "      <th>app_name</th>\n",
       "      <th>title</th>\n",
       "      <th>developer</th>\n",
       "    </tr>\n",
       "  </thead>\n",
       "  <tbody>\n",
       "    <tr>\n",
       "      <th>0</th>\n",
       "      <td>Action</td>\n",
       "      <td>http://store.steampowered.com/app/761140/Lost_...</td>\n",
       "      <td>2018-01-04</td>\n",
       "      <td>['Strategy', 'Action', 'Indie', 'Casual', 'Sim...</td>\n",
       "      <td>http://steamcommunity.com/app/761140/reviews/?...</td>\n",
       "      <td>4.49</td>\n",
       "      <td>['Single-player']</td>\n",
       "      <td>4.99</td>\n",
       "      <td>False</td>\n",
       "      <td>761140</td>\n",
       "      <td>NaN</td>\n",
       "      <td>2018</td>\n",
       "      <td>Kotoshiro</td>\n",
       "      <td>Lost Summoner Kitty</td>\n",
       "      <td>Lost Summoner Kitty</td>\n",
       "      <td>Kotoshiro</td>\n",
       "    </tr>\n",
       "    <tr>\n",
       "      <th>1</th>\n",
       "      <td>Casual</td>\n",
       "      <td>http://store.steampowered.com/app/761140/Lost_...</td>\n",
       "      <td>2018-01-04</td>\n",
       "      <td>['Strategy', 'Action', 'Indie', 'Casual', 'Sim...</td>\n",
       "      <td>http://steamcommunity.com/app/761140/reviews/?...</td>\n",
       "      <td>4.49</td>\n",
       "      <td>['Single-player']</td>\n",
       "      <td>4.99</td>\n",
       "      <td>False</td>\n",
       "      <td>761140</td>\n",
       "      <td>NaN</td>\n",
       "      <td>2018</td>\n",
       "      <td>Kotoshiro</td>\n",
       "      <td>Lost Summoner Kitty</td>\n",
       "      <td>Lost Summoner Kitty</td>\n",
       "      <td>Kotoshiro</td>\n",
       "    </tr>\n",
       "    <tr>\n",
       "      <th>2</th>\n",
       "      <td>Indie</td>\n",
       "      <td>http://store.steampowered.com/app/761140/Lost_...</td>\n",
       "      <td>2018-01-04</td>\n",
       "      <td>['Strategy', 'Action', 'Indie', 'Casual', 'Sim...</td>\n",
       "      <td>http://steamcommunity.com/app/761140/reviews/?...</td>\n",
       "      <td>4.49</td>\n",
       "      <td>['Single-player']</td>\n",
       "      <td>4.99</td>\n",
       "      <td>False</td>\n",
       "      <td>761140</td>\n",
       "      <td>NaN</td>\n",
       "      <td>2018</td>\n",
       "      <td>Kotoshiro</td>\n",
       "      <td>Lost Summoner Kitty</td>\n",
       "      <td>Lost Summoner Kitty</td>\n",
       "      <td>Kotoshiro</td>\n",
       "    </tr>\n",
       "    <tr>\n",
       "      <th>3</th>\n",
       "      <td>Simulation</td>\n",
       "      <td>http://store.steampowered.com/app/761140/Lost_...</td>\n",
       "      <td>2018-01-04</td>\n",
       "      <td>['Strategy', 'Action', 'Indie', 'Casual', 'Sim...</td>\n",
       "      <td>http://steamcommunity.com/app/761140/reviews/?...</td>\n",
       "      <td>4.49</td>\n",
       "      <td>['Single-player']</td>\n",
       "      <td>4.99</td>\n",
       "      <td>False</td>\n",
       "      <td>761140</td>\n",
       "      <td>NaN</td>\n",
       "      <td>2018</td>\n",
       "      <td>Kotoshiro</td>\n",
       "      <td>Lost Summoner Kitty</td>\n",
       "      <td>Lost Summoner Kitty</td>\n",
       "      <td>Kotoshiro</td>\n",
       "    </tr>\n",
       "    <tr>\n",
       "      <th>4</th>\n",
       "      <td>Strategy</td>\n",
       "      <td>http://store.steampowered.com/app/761140/Lost_...</td>\n",
       "      <td>2018-01-04</td>\n",
       "      <td>['Strategy', 'Action', 'Indie', 'Casual', 'Sim...</td>\n",
       "      <td>http://steamcommunity.com/app/761140/reviews/?...</td>\n",
       "      <td>4.49</td>\n",
       "      <td>['Single-player']</td>\n",
       "      <td>4.99</td>\n",
       "      <td>False</td>\n",
       "      <td>761140</td>\n",
       "      <td>NaN</td>\n",
       "      <td>2018</td>\n",
       "      <td>Kotoshiro</td>\n",
       "      <td>Lost Summoner Kitty</td>\n",
       "      <td>Lost Summoner Kitty</td>\n",
       "      <td>Kotoshiro</td>\n",
       "    </tr>\n",
       "    <tr>\n",
       "      <th>...</th>\n",
       "      <td>...</td>\n",
       "      <td>...</td>\n",
       "      <td>...</td>\n",
       "      <td>...</td>\n",
       "      <td>...</td>\n",
       "      <td>...</td>\n",
       "      <td>...</td>\n",
       "      <td>...</td>\n",
       "      <td>...</td>\n",
       "      <td>...</td>\n",
       "      <td>...</td>\n",
       "      <td>...</td>\n",
       "      <td>...</td>\n",
       "      <td>...</td>\n",
       "      <td>...</td>\n",
       "      <td>...</td>\n",
       "    </tr>\n",
       "    <tr>\n",
       "      <th>71546</th>\n",
       "      <td>Indie</td>\n",
       "      <td>http://store.steampowered.com/app/610660/Russi...</td>\n",
       "      <td>2018-01-04</td>\n",
       "      <td>['Indie', 'Simulation', 'Racing']</td>\n",
       "      <td>http://steamcommunity.com/app/610660/reviews/?...</td>\n",
       "      <td>1.39</td>\n",
       "      <td>['Single-player', 'Steam Achievements', 'Steam...</td>\n",
       "      <td>1.99</td>\n",
       "      <td>False</td>\n",
       "      <td>610660</td>\n",
       "      <td>NaN</td>\n",
       "      <td>2018</td>\n",
       "      <td>Laush Studio</td>\n",
       "      <td>Russian Roads</td>\n",
       "      <td>Russian Roads</td>\n",
       "      <td>Laush Dmitriy Sergeevich</td>\n",
       "    </tr>\n",
       "    <tr>\n",
       "      <th>71547</th>\n",
       "      <td>Racing</td>\n",
       "      <td>http://store.steampowered.com/app/610660/Russi...</td>\n",
       "      <td>2018-01-04</td>\n",
       "      <td>['Indie', 'Simulation', 'Racing']</td>\n",
       "      <td>http://steamcommunity.com/app/610660/reviews/?...</td>\n",
       "      <td>1.39</td>\n",
       "      <td>['Single-player', 'Steam Achievements', 'Steam...</td>\n",
       "      <td>1.99</td>\n",
       "      <td>False</td>\n",
       "      <td>610660</td>\n",
       "      <td>NaN</td>\n",
       "      <td>2018</td>\n",
       "      <td>Laush Studio</td>\n",
       "      <td>Russian Roads</td>\n",
       "      <td>Russian Roads</td>\n",
       "      <td>Laush Dmitriy Sergeevich</td>\n",
       "    </tr>\n",
       "    <tr>\n",
       "      <th>71548</th>\n",
       "      <td>Simulation</td>\n",
       "      <td>http://store.steampowered.com/app/610660/Russi...</td>\n",
       "      <td>2018-01-04</td>\n",
       "      <td>['Indie', 'Simulation', 'Racing']</td>\n",
       "      <td>http://steamcommunity.com/app/610660/reviews/?...</td>\n",
       "      <td>1.39</td>\n",
       "      <td>['Single-player', 'Steam Achievements', 'Steam...</td>\n",
       "      <td>1.99</td>\n",
       "      <td>False</td>\n",
       "      <td>610660</td>\n",
       "      <td>NaN</td>\n",
       "      <td>2018</td>\n",
       "      <td>Laush Studio</td>\n",
       "      <td>Russian Roads</td>\n",
       "      <td>Russian Roads</td>\n",
       "      <td>Laush Dmitriy Sergeevich</td>\n",
       "    </tr>\n",
       "    <tr>\n",
       "      <th>71549</th>\n",
       "      <td>Casual</td>\n",
       "      <td>http://store.steampowered.com/app/658870/EXIT_...</td>\n",
       "      <td>2017-09-02</td>\n",
       "      <td>['Indie', 'Casual', 'Puzzle', 'Singleplayer', ...</td>\n",
       "      <td>http://steamcommunity.com/app/658870/reviews/?...</td>\n",
       "      <td>NaN</td>\n",
       "      <td>['Single-player', 'Steam Achievements', 'Steam...</td>\n",
       "      <td>4.99</td>\n",
       "      <td>False</td>\n",
       "      <td>658870</td>\n",
       "      <td>NaN</td>\n",
       "      <td>2017</td>\n",
       "      <td>SIXNAILS</td>\n",
       "      <td>EXIT 2 - Directions</td>\n",
       "      <td>EXIT 2 - Directions</td>\n",
       "      <td>xropi,stev3ns</td>\n",
       "    </tr>\n",
       "    <tr>\n",
       "      <th>71550</th>\n",
       "      <td>Indie</td>\n",
       "      <td>http://store.steampowered.com/app/658870/EXIT_...</td>\n",
       "      <td>2017-09-02</td>\n",
       "      <td>['Indie', 'Casual', 'Puzzle', 'Singleplayer', ...</td>\n",
       "      <td>http://steamcommunity.com/app/658870/reviews/?...</td>\n",
       "      <td>NaN</td>\n",
       "      <td>['Single-player', 'Steam Achievements', 'Steam...</td>\n",
       "      <td>4.99</td>\n",
       "      <td>False</td>\n",
       "      <td>658870</td>\n",
       "      <td>NaN</td>\n",
       "      <td>2017</td>\n",
       "      <td>SIXNAILS</td>\n",
       "      <td>EXIT 2 - Directions</td>\n",
       "      <td>EXIT 2 - Directions</td>\n",
       "      <td>xropi,stev3ns</td>\n",
       "    </tr>\n",
       "  </tbody>\n",
       "</table>\n",
       "<p>71551 rows × 16 columns</p>\n",
       "</div>"
      ],
      "text/plain": [
       "           genres                                                url   \n",
       "0          Action  http://store.steampowered.com/app/761140/Lost_...  \\\n",
       "1          Casual  http://store.steampowered.com/app/761140/Lost_...   \n",
       "2           Indie  http://store.steampowered.com/app/761140/Lost_...   \n",
       "3      Simulation  http://store.steampowered.com/app/761140/Lost_...   \n",
       "4        Strategy  http://store.steampowered.com/app/761140/Lost_...   \n",
       "...           ...                                                ...   \n",
       "71546       Indie  http://store.steampowered.com/app/610660/Russi...   \n",
       "71547      Racing  http://store.steampowered.com/app/610660/Russi...   \n",
       "71548  Simulation  http://store.steampowered.com/app/610660/Russi...   \n",
       "71549      Casual  http://store.steampowered.com/app/658870/EXIT_...   \n",
       "71550       Indie  http://store.steampowered.com/app/658870/EXIT_...   \n",
       "\n",
       "      release_date                                               tags   \n",
       "0       2018-01-04  ['Strategy', 'Action', 'Indie', 'Casual', 'Sim...  \\\n",
       "1       2018-01-04  ['Strategy', 'Action', 'Indie', 'Casual', 'Sim...   \n",
       "2       2018-01-04  ['Strategy', 'Action', 'Indie', 'Casual', 'Sim...   \n",
       "3       2018-01-04  ['Strategy', 'Action', 'Indie', 'Casual', 'Sim...   \n",
       "4       2018-01-04  ['Strategy', 'Action', 'Indie', 'Casual', 'Sim...   \n",
       "...            ...                                                ...   \n",
       "71546   2018-01-04                  ['Indie', 'Simulation', 'Racing']   \n",
       "71547   2018-01-04                  ['Indie', 'Simulation', 'Racing']   \n",
       "71548   2018-01-04                  ['Indie', 'Simulation', 'Racing']   \n",
       "71549   2017-09-02  ['Indie', 'Casual', 'Puzzle', 'Singleplayer', ...   \n",
       "71550   2017-09-02  ['Indie', 'Casual', 'Puzzle', 'Singleplayer', ...   \n",
       "\n",
       "                                             reviews_url  discount_price   \n",
       "0      http://steamcommunity.com/app/761140/reviews/?...            4.49  \\\n",
       "1      http://steamcommunity.com/app/761140/reviews/?...            4.49   \n",
       "2      http://steamcommunity.com/app/761140/reviews/?...            4.49   \n",
       "3      http://steamcommunity.com/app/761140/reviews/?...            4.49   \n",
       "4      http://steamcommunity.com/app/761140/reviews/?...            4.49   \n",
       "...                                                  ...             ...   \n",
       "71546  http://steamcommunity.com/app/610660/reviews/?...            1.39   \n",
       "71547  http://steamcommunity.com/app/610660/reviews/?...            1.39   \n",
       "71548  http://steamcommunity.com/app/610660/reviews/?...            1.39   \n",
       "71549  http://steamcommunity.com/app/658870/reviews/?...             NaN   \n",
       "71550  http://steamcommunity.com/app/658870/reviews/?...             NaN   \n",
       "\n",
       "                                                   specs  price  early_access   \n",
       "0                                      ['Single-player']   4.99         False  \\\n",
       "1                                      ['Single-player']   4.99         False   \n",
       "2                                      ['Single-player']   4.99         False   \n",
       "3                                      ['Single-player']   4.99         False   \n",
       "4                                      ['Single-player']   4.99         False   \n",
       "...                                                  ...    ...           ...   \n",
       "71546  ['Single-player', 'Steam Achievements', 'Steam...   1.99         False   \n",
       "71547  ['Single-player', 'Steam Achievements', 'Steam...   1.99         False   \n",
       "71548  ['Single-player', 'Steam Achievements', 'Steam...   1.99         False   \n",
       "71549  ['Single-player', 'Steam Achievements', 'Steam...   4.99         False   \n",
       "71550  ['Single-player', 'Steam Achievements', 'Steam...   4.99         False   \n",
       "\n",
       "           id  metascore Año_estreno     publisher             app_name   \n",
       "0      761140        NaN        2018     Kotoshiro  Lost Summoner Kitty  \\\n",
       "1      761140        NaN        2018     Kotoshiro  Lost Summoner Kitty   \n",
       "2      761140        NaN        2018     Kotoshiro  Lost Summoner Kitty   \n",
       "3      761140        NaN        2018     Kotoshiro  Lost Summoner Kitty   \n",
       "4      761140        NaN        2018     Kotoshiro  Lost Summoner Kitty   \n",
       "...       ...        ...         ...           ...                  ...   \n",
       "71546  610660        NaN        2018  Laush Studio        Russian Roads   \n",
       "71547  610660        NaN        2018  Laush Studio        Russian Roads   \n",
       "71548  610660        NaN        2018  Laush Studio        Russian Roads   \n",
       "71549  658870        NaN        2017      SIXNAILS  EXIT 2 - Directions   \n",
       "71550  658870        NaN        2017      SIXNAILS  EXIT 2 - Directions   \n",
       "\n",
       "                     title                 developer  \n",
       "0      Lost Summoner Kitty                 Kotoshiro  \n",
       "1      Lost Summoner Kitty                 Kotoshiro  \n",
       "2      Lost Summoner Kitty                 Kotoshiro  \n",
       "3      Lost Summoner Kitty                 Kotoshiro  \n",
       "4      Lost Summoner Kitty                 Kotoshiro  \n",
       "...                    ...                       ...  \n",
       "71546        Russian Roads  Laush Dmitriy Sergeevich  \n",
       "71547        Russian Roads  Laush Dmitriy Sergeevich  \n",
       "71548        Russian Roads  Laush Dmitriy Sergeevich  \n",
       "71549  EXIT 2 - Directions             xropi,stev3ns  \n",
       "71550  EXIT 2 - Directions             xropi,stev3ns  \n",
       "\n",
       "[71551 rows x 16 columns]"
      ]
     },
     "execution_count": 4,
     "metadata": {},
     "output_type": "execute_result"
    }
   ],
   "source": [
    "modelo_item= pd.read_parquet(\"data/steam_games.parquet\")\n",
    "modelo_item"
   ]
  },
  {
   "cell_type": "markdown",
   "metadata": {},
   "source": [
    "Creo un dataframe con las columnas que voy a utilizar `id`,`app_name` y `genre`"
   ]
  },
  {
   "cell_type": "code",
   "execution_count": 8,
   "metadata": {},
   "outputs": [
    {
     "data": {
      "text/html": [
       "<div>\n",
       "<style scoped>\n",
       "    .dataframe tbody tr th:only-of-type {\n",
       "        vertical-align: middle;\n",
       "    }\n",
       "\n",
       "    .dataframe tbody tr th {\n",
       "        vertical-align: top;\n",
       "    }\n",
       "\n",
       "    .dataframe thead th {\n",
       "        text-align: right;\n",
       "    }\n",
       "</style>\n",
       "<table border=\"1\" class=\"dataframe\">\n",
       "  <thead>\n",
       "    <tr style=\"text-align: right;\">\n",
       "      <th></th>\n",
       "      <th>id</th>\n",
       "      <th>app_name</th>\n",
       "      <th>genres</th>\n",
       "    </tr>\n",
       "  </thead>\n",
       "  <tbody>\n",
       "    <tr>\n",
       "      <th>0</th>\n",
       "      <td>761140</td>\n",
       "      <td>Lost Summoner Kitty</td>\n",
       "      <td>Action</td>\n",
       "    </tr>\n",
       "    <tr>\n",
       "      <th>1</th>\n",
       "      <td>761140</td>\n",
       "      <td>Lost Summoner Kitty</td>\n",
       "      <td>Casual</td>\n",
       "    </tr>\n",
       "    <tr>\n",
       "      <th>2</th>\n",
       "      <td>761140</td>\n",
       "      <td>Lost Summoner Kitty</td>\n",
       "      <td>Indie</td>\n",
       "    </tr>\n",
       "    <tr>\n",
       "      <th>3</th>\n",
       "      <td>761140</td>\n",
       "      <td>Lost Summoner Kitty</td>\n",
       "      <td>Simulation</td>\n",
       "    </tr>\n",
       "    <tr>\n",
       "      <th>4</th>\n",
       "      <td>761140</td>\n",
       "      <td>Lost Summoner Kitty</td>\n",
       "      <td>Strategy</td>\n",
       "    </tr>\n",
       "    <tr>\n",
       "      <th>...</th>\n",
       "      <td>...</td>\n",
       "      <td>...</td>\n",
       "      <td>...</td>\n",
       "    </tr>\n",
       "    <tr>\n",
       "      <th>71546</th>\n",
       "      <td>610660</td>\n",
       "      <td>Russian Roads</td>\n",
       "      <td>Indie</td>\n",
       "    </tr>\n",
       "    <tr>\n",
       "      <th>71547</th>\n",
       "      <td>610660</td>\n",
       "      <td>Russian Roads</td>\n",
       "      <td>Racing</td>\n",
       "    </tr>\n",
       "    <tr>\n",
       "      <th>71548</th>\n",
       "      <td>610660</td>\n",
       "      <td>Russian Roads</td>\n",
       "      <td>Simulation</td>\n",
       "    </tr>\n",
       "    <tr>\n",
       "      <th>71549</th>\n",
       "      <td>658870</td>\n",
       "      <td>EXIT 2 - Directions</td>\n",
       "      <td>Casual</td>\n",
       "    </tr>\n",
       "    <tr>\n",
       "      <th>71550</th>\n",
       "      <td>658870</td>\n",
       "      <td>EXIT 2 - Directions</td>\n",
       "      <td>Indie</td>\n",
       "    </tr>\n",
       "  </tbody>\n",
       "</table>\n",
       "<p>71551 rows × 3 columns</p>\n",
       "</div>"
      ],
      "text/plain": [
       "           id             app_name      genres\n",
       "0      761140  Lost Summoner Kitty      Action\n",
       "1      761140  Lost Summoner Kitty      Casual\n",
       "2      761140  Lost Summoner Kitty       Indie\n",
       "3      761140  Lost Summoner Kitty  Simulation\n",
       "4      761140  Lost Summoner Kitty    Strategy\n",
       "...       ...                  ...         ...\n",
       "71546  610660        Russian Roads       Indie\n",
       "71547  610660        Russian Roads      Racing\n",
       "71548  610660        Russian Roads  Simulation\n",
       "71549  658870  EXIT 2 - Directions      Casual\n",
       "71550  658870  EXIT 2 - Directions       Indie\n",
       "\n",
       "[71551 rows x 3 columns]"
      ]
     },
     "execution_count": 8,
     "metadata": {},
     "output_type": "execute_result"
    }
   ],
   "source": [
    "modelo_item= modelo_item[[\"id\", \"app_name\", \"genres\"]]\n",
    "modelo_item"
   ]
  },
  {
   "cell_type": "code",
   "execution_count": 9,
   "metadata": {},
   "outputs": [
    {
     "name": "stdout",
     "output_type": "stream",
     "text": [
      "<class 'pandas.core.frame.DataFrame'>\n",
      "RangeIndex: 71551 entries, 0 to 71550\n",
      "Data columns (total 3 columns):\n",
      " #   Column    Non-Null Count  Dtype \n",
      "---  ------    --------------  ----- \n",
      " 0   id        71551 non-null  int64 \n",
      " 1   app_name  71551 non-null  object\n",
      " 2   genres    71551 non-null  object\n",
      "dtypes: int64(1), object(2)\n",
      "memory usage: 1.6+ MB\n"
     ]
    }
   ],
   "source": [
    "#Se buscan nulos\n",
    "modelo_item.info()"
   ]
  },
  {
   "cell_type": "markdown",
   "metadata": {},
   "source": [
    "### Creando el archivo para el modelado"
   ]
  },
  {
   "cell_type": "code",
   "execution_count": 10,
   "metadata": {},
   "outputs": [],
   "source": [
    "modelo_item.to_parquet(\"data/modelo_item.parquet\")"
   ]
  }
 ],
 "metadata": {
  "kernelspec": {
   "display_name": "env",
   "language": "python",
   "name": "python3"
  },
  "language_info": {
   "codemirror_mode": {
    "name": "ipython",
    "version": 3
   },
   "file_extension": ".py",
   "mimetype": "text/x-python",
   "name": "python",
   "nbconvert_exporter": "python",
   "pygments_lexer": "ipython3",
   "version": "3.11.2"
  },
  "orig_nbformat": 4
 },
 "nbformat": 4,
 "nbformat_minor": 2
}
