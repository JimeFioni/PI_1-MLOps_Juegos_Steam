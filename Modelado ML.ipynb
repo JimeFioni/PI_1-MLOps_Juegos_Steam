{
 "cells": [
  {
   "cell_type": "markdown",
   "metadata": {},
   "source": [
    "## Modelado de datos para Funciones de Machine Learning"
   ]
  },
  {
   "cell_type": "markdown",
   "metadata": {},
   "source": [
    "### Importando librerías "
   ]
  },
  {
   "cell_type": "code",
   "execution_count": 2,
   "metadata": {},
   "outputs": [],
   "source": [
    "import pandas as pd\n",
    "import numpy as np\n",
    "\n",
    "import scipy as sp\n",
    "from sklearn.metrics.pairwise import cosine_similarity\n",
    "import operator\n",
    "\n",
    "import pyarrow as pa\n",
    "import pyarrow.parquet as pq"
   ]
  },
  {
   "cell_type": "markdown",
   "metadata": {},
   "source": [
    "\n",
    "### Modelo de recomendación Item_Item"
   ]
  },
  {
   "cell_type": "markdown",
   "metadata": {},
   "source": [
    "Un modelo de recomendación `item-item` basado en la similitud del coseno es un tipo de sistema de recomendación que sugiere elementos o ítems similares a aquellos que un usuario ha interactuado o mostrado interés previamente. Este enfoque se basa en la idea de que si a un usuario le gustó un cierto ítem, es probable que también le gusten ítems similares.\n",
    "El perfil de un ítem generalmente se representa como un vector que contiene información relevante sobre ese ítem. Por ejemplo, en un sistema de recomendación de películas, el perfil de una película podría incluir información sobre el género, el director, el elenco de actores, las etiquetas asociadas, etc."
   ]
  },
  {
   "cell_type": "markdown",
   "metadata": {},
   "source": [
    "#### Se inicia con la creación de dummies , para luego crear la matriz necesaria para el  analisis de similitud de coseno"
   ]
  },
  {
   "cell_type": "code",
   "execution_count": 38,
   "metadata": {},
   "outputs": [
    {
     "data": {
      "text/html": [
       "<div>\n",
       "<style scoped>\n",
       "    .dataframe tbody tr th:only-of-type {\n",
       "        vertical-align: middle;\n",
       "    }\n",
       "\n",
       "    .dataframe tbody tr th {\n",
       "        vertical-align: top;\n",
       "    }\n",
       "\n",
       "    .dataframe thead th {\n",
       "        text-align: right;\n",
       "    }\n",
       "</style>\n",
       "<table border=\"1\" class=\"dataframe\">\n",
       "  <thead>\n",
       "    <tr style=\"text-align: right;\">\n",
       "      <th></th>\n",
       "      <th>id</th>\n",
       "      <th>app_name</th>\n",
       "      <th>genres</th>\n",
       "    </tr>\n",
       "  </thead>\n",
       "  <tbody>\n",
       "    <tr>\n",
       "      <th>0</th>\n",
       "      <td>761140</td>\n",
       "      <td>Lost Summoner Kitty</td>\n",
       "      <td>Action</td>\n",
       "    </tr>\n",
       "    <tr>\n",
       "      <th>1</th>\n",
       "      <td>761140</td>\n",
       "      <td>Lost Summoner Kitty</td>\n",
       "      <td>Casual</td>\n",
       "    </tr>\n",
       "    <tr>\n",
       "      <th>2</th>\n",
       "      <td>761140</td>\n",
       "      <td>Lost Summoner Kitty</td>\n",
       "      <td>Indie</td>\n",
       "    </tr>\n",
       "  </tbody>\n",
       "</table>\n",
       "</div>"
      ],
      "text/plain": [
       "       id             app_name  genres\n",
       "0  761140  Lost Summoner Kitty  Action\n",
       "1  761140  Lost Summoner Kitty  Casual\n",
       "2  761140  Lost Summoner Kitty   Indie"
      ]
     },
     "execution_count": 38,
     "metadata": {},
     "output_type": "execute_result"
    }
   ],
   "source": [
    "modelo_item= pd.read_parquet(\"data/modelo_item.parquet\")\n",
    "modelo_item.head(3)"
   ]
  },
  {
   "cell_type": "code",
   "execution_count": 31,
   "metadata": {},
   "outputs": [
    {
     "data": {
      "text/html": [
       "<div>\n",
       "<style scoped>\n",
       "    .dataframe tbody tr th:only-of-type {\n",
       "        vertical-align: middle;\n",
       "    }\n",
       "\n",
       "    .dataframe tbody tr th {\n",
       "        vertical-align: top;\n",
       "    }\n",
       "\n",
       "    .dataframe thead th {\n",
       "        text-align: right;\n",
       "    }\n",
       "</style>\n",
       "<table border=\"1\" class=\"dataframe\">\n",
       "  <thead>\n",
       "    <tr style=\"text-align: right;\">\n",
       "      <th></th>\n",
       "      <th>id</th>\n",
       "      <th>app_name</th>\n",
       "      <th>_Accounting</th>\n",
       "      <th>_Action</th>\n",
       "      <th>_Adventure</th>\n",
       "      <th>_Animation &amp;amp; Modeling</th>\n",
       "      <th>_Audio Production</th>\n",
       "      <th>_Casual</th>\n",
       "      <th>_Design &amp;amp; Illustration</th>\n",
       "      <th>_Early Access</th>\n",
       "      <th>...</th>\n",
       "      <th>_Photo Editing</th>\n",
       "      <th>_RPG</th>\n",
       "      <th>_Racing</th>\n",
       "      <th>_Simulation</th>\n",
       "      <th>_Software Training</th>\n",
       "      <th>_Sports</th>\n",
       "      <th>_Strategy</th>\n",
       "      <th>_Utilities</th>\n",
       "      <th>_Video Production</th>\n",
       "      <th>_Web Publishing</th>\n",
       "    </tr>\n",
       "  </thead>\n",
       "  <tbody>\n",
       "    <tr>\n",
       "      <th>0</th>\n",
       "      <td>10</td>\n",
       "      <td>Counter-Strike</td>\n",
       "      <td>0</td>\n",
       "      <td>1</td>\n",
       "      <td>0</td>\n",
       "      <td>0</td>\n",
       "      <td>0</td>\n",
       "      <td>0</td>\n",
       "      <td>0</td>\n",
       "      <td>0</td>\n",
       "      <td>...</td>\n",
       "      <td>0</td>\n",
       "      <td>0</td>\n",
       "      <td>0</td>\n",
       "      <td>0</td>\n",
       "      <td>0</td>\n",
       "      <td>0</td>\n",
       "      <td>0</td>\n",
       "      <td>0</td>\n",
       "      <td>0</td>\n",
       "      <td>0</td>\n",
       "    </tr>\n",
       "    <tr>\n",
       "      <th>1</th>\n",
       "      <td>20</td>\n",
       "      <td>Team Fortress Classic</td>\n",
       "      <td>0</td>\n",
       "      <td>1</td>\n",
       "      <td>0</td>\n",
       "      <td>0</td>\n",
       "      <td>0</td>\n",
       "      <td>0</td>\n",
       "      <td>0</td>\n",
       "      <td>0</td>\n",
       "      <td>...</td>\n",
       "      <td>0</td>\n",
       "      <td>0</td>\n",
       "      <td>0</td>\n",
       "      <td>0</td>\n",
       "      <td>0</td>\n",
       "      <td>0</td>\n",
       "      <td>0</td>\n",
       "      <td>0</td>\n",
       "      <td>0</td>\n",
       "      <td>0</td>\n",
       "    </tr>\n",
       "    <tr>\n",
       "      <th>2</th>\n",
       "      <td>30</td>\n",
       "      <td>Day of Defeat</td>\n",
       "      <td>0</td>\n",
       "      <td>1</td>\n",
       "      <td>0</td>\n",
       "      <td>0</td>\n",
       "      <td>0</td>\n",
       "      <td>0</td>\n",
       "      <td>0</td>\n",
       "      <td>0</td>\n",
       "      <td>...</td>\n",
       "      <td>0</td>\n",
       "      <td>0</td>\n",
       "      <td>0</td>\n",
       "      <td>0</td>\n",
       "      <td>0</td>\n",
       "      <td>0</td>\n",
       "      <td>0</td>\n",
       "      <td>0</td>\n",
       "      <td>0</td>\n",
       "      <td>0</td>\n",
       "    </tr>\n",
       "    <tr>\n",
       "      <th>3</th>\n",
       "      <td>40</td>\n",
       "      <td>Deathmatch Classic</td>\n",
       "      <td>0</td>\n",
       "      <td>1</td>\n",
       "      <td>0</td>\n",
       "      <td>0</td>\n",
       "      <td>0</td>\n",
       "      <td>0</td>\n",
       "      <td>0</td>\n",
       "      <td>0</td>\n",
       "      <td>...</td>\n",
       "      <td>0</td>\n",
       "      <td>0</td>\n",
       "      <td>0</td>\n",
       "      <td>0</td>\n",
       "      <td>0</td>\n",
       "      <td>0</td>\n",
       "      <td>0</td>\n",
       "      <td>0</td>\n",
       "      <td>0</td>\n",
       "      <td>0</td>\n",
       "    </tr>\n",
       "  </tbody>\n",
       "</table>\n",
       "<p>4 rows × 24 columns</p>\n",
       "</div>"
      ],
      "text/plain": [
       "   id               app_name  _Accounting  _Action  _Adventure  \\\n",
       "0  10         Counter-Strike            0        1           0   \n",
       "1  20  Team Fortress Classic            0        1           0   \n",
       "2  30          Day of Defeat            0        1           0   \n",
       "3  40     Deathmatch Classic            0        1           0   \n",
       "\n",
       "   _Animation &amp; Modeling  _Audio Production  _Casual  \\\n",
       "0                          0                  0        0   \n",
       "1                          0                  0        0   \n",
       "2                          0                  0        0   \n",
       "3                          0                  0        0   \n",
       "\n",
       "   _Design &amp; Illustration  _Early Access  ...  _Photo Editing  _RPG  \\\n",
       "0                           0              0  ...               0     0   \n",
       "1                           0              0  ...               0     0   \n",
       "2                           0              0  ...               0     0   \n",
       "3                           0              0  ...               0     0   \n",
       "\n",
       "   _Racing  _Simulation  _Software Training  _Sports  _Strategy  _Utilities  \\\n",
       "0        0            0                   0        0          0           0   \n",
       "1        0            0                   0        0          0           0   \n",
       "2        0            0                   0        0          0           0   \n",
       "3        0            0                   0        0          0           0   \n",
       "\n",
       "   _Video Production  _Web Publishing  \n",
       "0                  0                0  \n",
       "1                  0                0  \n",
       "2                  0                0  \n",
       "3                  0                0  \n",
       "\n",
       "[4 rows x 24 columns]"
      ]
     },
     "execution_count": 31,
     "metadata": {},
     "output_type": "execute_result"
    }
   ],
   "source": [
    "#Creacíon de dummies\n",
    "modelo_item= pd.get_dummies(modelo_item, columns=[\"genres\"], prefix=\"\")\n",
    "\n",
    "modelo_item= modelo_item.groupby([\"id\",\"app_name\"]).sum().reset_index()\n",
    "\n",
    "modelo_item.head(4)"
   ]
  },
  {
   "cell_type": "markdown",
   "metadata": {},
   "source": [
    "#### Calcular la similitud del coseno"
   ]
  },
  {
   "cell_type": "markdown",
   "metadata": {},
   "source": [
    "Se calcula la similitud del coseno entre todos los pares posibles de ítems en función de sus perfiles. La similitud del coseno mide el ángulo entre dos vectores en un espacio multidimensional y varía de -1 (completamente opuestos) a 1 (idénticos). Cuanto mayor sea la similitud del coseno entre dos ítems, más parecidos se considerarán."
   ]
  },
  {
   "cell_type": "code",
   "execution_count": 32,
   "metadata": {},
   "outputs": [],
   "source": [
    "similitudes = cosine_similarity(modelo_item.iloc[:,3:])"
   ]
  },
  {
   "cell_type": "code",
   "execution_count": 33,
   "metadata": {},
   "outputs": [
    {
     "data": {
      "text/plain": [
       "(28850, 28850)"
      ]
     },
     "execution_count": 33,
     "metadata": {},
     "output_type": "execute_result"
    }
   ],
   "source": [
    "similitudes.shape"
   ]
  },
  {
   "cell_type": "code",
   "execution_count": 34,
   "metadata": {},
   "outputs": [
    {
     "name": "stdout",
     "output_type": "stream",
     "text": [
      "[[1.         1.         1.         ... 1.         0.70710678 1.        ]\n",
      " [1.         1.         1.         ... 1.         0.70710678 1.        ]\n",
      " [1.         1.         1.         ... 1.         0.70710678 1.        ]\n",
      " ...\n",
      " [1.         1.         1.         ... 1.         0.70710678 1.        ]\n",
      " [0.70710678 0.70710678 0.70710678 ... 0.70710678 1.         0.70710678]\n",
      " [1.         1.         1.         ... 1.         0.70710678 1.        ]]\n"
     ]
    }
   ],
   "source": [
    "print(similitudes)"
   ]
  },
  {
   "cell_type": "code",
   "execution_count": 35,
   "metadata": {},
   "outputs": [],
   "source": [
    "def recomendacion_juego(id):\n",
    "    \n",
    "    id = int(id)\n",
    "    # Filtrar el juego de entrada por su ID\n",
    "    juego_seleccionado = similitudes[modelo_item['id'] == id]\n",
    "    \n",
    "    if juego_seleccionado.empty:\n",
    "        return \"El juego con el ID especificado no existe en la base de datos.\"\n",
    "    \n",
    "    # Calcular la matriz de similitud coseno\n",
    "    #similitudes = cosine_similarity(modelo_item.iloc[:,3:])\n",
    "    \n",
    "    # Obtener las puntuaciones de similitud del juego de entrada con otros juegos\n",
    "    similarity_scores = similitudes[modelo_item[modelo_item['id'] == id].index[0]]\n",
    "    \n",
    "    # Obtener los índices de los juegos más similares (excluyendo el juego de entrada)\n",
    "    indices_juegos_similares = similarity_scores.argsort()[::-1][1:6]\n",
    "    \n",
    "    # Obtener los nombres de los juegos recomendados\n",
    "    juegos_recomendados = modelo_item.iloc[indices_juegos_similares]['app_name']\n",
    "    \n",
    "    return juegos_recomendados"
   ]
  },
  {
   "cell_type": "code",
   "execution_count": 37,
   "metadata": {},
   "outputs": [
    {
     "ename": "AttributeError",
     "evalue": "'numpy.ndarray' object has no attribute 'empty'",
     "output_type": "error",
     "traceback": [
      "\u001b[1;31m---------------------------------------------------------------------------\u001b[0m",
      "\u001b[1;31mAttributeError\u001b[0m                            Traceback (most recent call last)",
      "\u001b[1;32me:\\JIME\\Desktop\\PI_1-MLOps_Juegos_Steam\\Modelado ML.ipynb Celda 15\u001b[0m line \u001b[0;36m1\n\u001b[1;32m----> <a href='vscode-notebook-cell:/e%3A/JIME/Desktop/PI_1-MLOps_Juegos_Steam/Modelado%20ML.ipynb#X24sZmlsZQ%3D%3D?line=0'>1</a>\u001b[0m recomendacion_juego(\u001b[39m\"\u001b[39;49m\u001b[39m10\u001b[39;49m\u001b[39m\"\u001b[39;49m)\n",
      "\u001b[1;32me:\\JIME\\Desktop\\PI_1-MLOps_Juegos_Steam\\Modelado ML.ipynb Celda 15\u001b[0m line \u001b[0;36m7\n\u001b[0;32m      <a href='vscode-notebook-cell:/e%3A/JIME/Desktop/PI_1-MLOps_Juegos_Steam/Modelado%20ML.ipynb#X24sZmlsZQ%3D%3D?line=3'>4</a>\u001b[0m \u001b[39m# Filtrar el juego de entrada por su ID\u001b[39;00m\n\u001b[0;32m      <a href='vscode-notebook-cell:/e%3A/JIME/Desktop/PI_1-MLOps_Juegos_Steam/Modelado%20ML.ipynb#X24sZmlsZQ%3D%3D?line=4'>5</a>\u001b[0m juego_seleccionado \u001b[39m=\u001b[39m similitudes[modelo_item[\u001b[39m'\u001b[39m\u001b[39mid\u001b[39m\u001b[39m'\u001b[39m] \u001b[39m==\u001b[39m \u001b[39mid\u001b[39m]\n\u001b[1;32m----> <a href='vscode-notebook-cell:/e%3A/JIME/Desktop/PI_1-MLOps_Juegos_Steam/Modelado%20ML.ipynb#X24sZmlsZQ%3D%3D?line=6'>7</a>\u001b[0m \u001b[39mif\u001b[39;00m juego_seleccionado\u001b[39m.\u001b[39;49mempty:\n\u001b[0;32m      <a href='vscode-notebook-cell:/e%3A/JIME/Desktop/PI_1-MLOps_Juegos_Steam/Modelado%20ML.ipynb#X24sZmlsZQ%3D%3D?line=7'>8</a>\u001b[0m     \u001b[39mreturn\u001b[39;00m \u001b[39m\"\u001b[39m\u001b[39mEl juego con el ID especificado no existe en la base de datos.\u001b[39m\u001b[39m\"\u001b[39m\n\u001b[0;32m     <a href='vscode-notebook-cell:/e%3A/JIME/Desktop/PI_1-MLOps_Juegos_Steam/Modelado%20ML.ipynb#X24sZmlsZQ%3D%3D?line=9'>10</a>\u001b[0m \u001b[39m# Calcular la matriz de similitud coseno\u001b[39;00m\n\u001b[0;32m     <a href='vscode-notebook-cell:/e%3A/JIME/Desktop/PI_1-MLOps_Juegos_Steam/Modelado%20ML.ipynb#X24sZmlsZQ%3D%3D?line=10'>11</a>\u001b[0m \u001b[39m#similitudes = cosine_similarity(modelo_item.iloc[:,3:])\u001b[39;00m\n\u001b[0;32m     <a href='vscode-notebook-cell:/e%3A/JIME/Desktop/PI_1-MLOps_Juegos_Steam/Modelado%20ML.ipynb#X24sZmlsZQ%3D%3D?line=11'>12</a>\u001b[0m \n\u001b[0;32m     <a href='vscode-notebook-cell:/e%3A/JIME/Desktop/PI_1-MLOps_Juegos_Steam/Modelado%20ML.ipynb#X24sZmlsZQ%3D%3D?line=12'>13</a>\u001b[0m \u001b[39m# Obtener las puntuaciones de similitud del juego de entrada con otros juegos\u001b[39;00m\n",
      "\u001b[1;31mAttributeError\u001b[0m: 'numpy.ndarray' object has no attribute 'empty'"
     ]
    }
   ],
   "source": [
    "recomendacion_juego(\"10\")"
   ]
  },
  {
   "cell_type": "code",
   "execution_count": 14,
   "metadata": {},
   "outputs": [],
   "source": [
    "def top_game(game):\n",
    "    '''\n",
    "    Muestra una lista de juegos similares a un juego dado.\n",
    "\n",
    "    Args:\n",
    "        game (str): El nombre del juego para el cual se desean encontrar juegos similares.\n",
    "\n",
    "    Returns:\n",
    "        None: Esta función imprime una lista de juegos 5 similares al dado.\n",
    "\n",
    "    '''\n",
    "    count = 1\n",
    "    print('Similar games to {} include:\\n'.format(game))\n",
    "    for item in similitudes.sort_values(by = game, ascending = False).index[1:6]:\n",
    "        print('No. {}: {}'.format(count, item))\n",
    "        count +=1  "
   ]
  },
  {
   "cell_type": "code",
   "execution_count": 16,
   "metadata": {},
   "outputs": [
    {
     "name": "stdout",
     "output_type": "stream",
     "text": [
      "Similar games to Counter_Strike include:\n",
      "\n"
     ]
    },
    {
     "ename": "AttributeError",
     "evalue": "'numpy.ndarray' object has no attribute 'sort_values'",
     "output_type": "error",
     "traceback": [
      "\u001b[1;31m---------------------------------------------------------------------------\u001b[0m",
      "\u001b[1;31mAttributeError\u001b[0m                            Traceback (most recent call last)",
      "\u001b[1;32me:\\JIME\\Desktop\\PI_1-MLOps_Juegos_Steam\\Modelado ML.ipynb Celda 15\u001b[0m line \u001b[0;36m1\n\u001b[1;32m----> <a href='vscode-notebook-cell:/e%3A/JIME/Desktop/PI_1-MLOps_Juegos_Steam/Modelado%20ML.ipynb#X22sZmlsZQ%3D%3D?line=0'>1</a>\u001b[0m top_game(\u001b[39m'\u001b[39;49m\u001b[39mCounter_Strike\u001b[39;49m\u001b[39m'\u001b[39;49m)\n",
      "\u001b[1;32me:\\JIME\\Desktop\\PI_1-MLOps_Juegos_Steam\\Modelado ML.ipynb Celda 15\u001b[0m line \u001b[0;36m1\n\u001b[0;32m     <a href='vscode-notebook-cell:/e%3A/JIME/Desktop/PI_1-MLOps_Juegos_Steam/Modelado%20ML.ipynb#X22sZmlsZQ%3D%3D?line=11'>12</a>\u001b[0m count \u001b[39m=\u001b[39m \u001b[39m1\u001b[39m\n\u001b[0;32m     <a href='vscode-notebook-cell:/e%3A/JIME/Desktop/PI_1-MLOps_Juegos_Steam/Modelado%20ML.ipynb#X22sZmlsZQ%3D%3D?line=12'>13</a>\u001b[0m \u001b[39mprint\u001b[39m(\u001b[39m'\u001b[39m\u001b[39mSimilar games to \u001b[39m\u001b[39m{}\u001b[39;00m\u001b[39m include:\u001b[39m\u001b[39m\\n\u001b[39;00m\u001b[39m'\u001b[39m\u001b[39m.\u001b[39mformat(game))\n\u001b[1;32m---> <a href='vscode-notebook-cell:/e%3A/JIME/Desktop/PI_1-MLOps_Juegos_Steam/Modelado%20ML.ipynb#X22sZmlsZQ%3D%3D?line=13'>14</a>\u001b[0m \u001b[39mfor\u001b[39;00m item \u001b[39min\u001b[39;00m similitudes\u001b[39m.\u001b[39;49msort_values(by \u001b[39m=\u001b[39m game, ascending \u001b[39m=\u001b[39m \u001b[39mFalse\u001b[39;00m)\u001b[39m.\u001b[39mindex[\u001b[39m1\u001b[39m:\u001b[39m6\u001b[39m]:\n\u001b[0;32m     <a href='vscode-notebook-cell:/e%3A/JIME/Desktop/PI_1-MLOps_Juegos_Steam/Modelado%20ML.ipynb#X22sZmlsZQ%3D%3D?line=14'>15</a>\u001b[0m     \u001b[39mprint\u001b[39m(\u001b[39m'\u001b[39m\u001b[39mNo. \u001b[39m\u001b[39m{}\u001b[39;00m\u001b[39m: \u001b[39m\u001b[39m{}\u001b[39;00m\u001b[39m'\u001b[39m\u001b[39m.\u001b[39mformat(count, item))\n\u001b[0;32m     <a href='vscode-notebook-cell:/e%3A/JIME/Desktop/PI_1-MLOps_Juegos_Steam/Modelado%20ML.ipynb#X22sZmlsZQ%3D%3D?line=15'>16</a>\u001b[0m     count \u001b[39m+\u001b[39m\u001b[39m=\u001b[39m\u001b[39m1\u001b[39m\n",
      "\u001b[1;31mAttributeError\u001b[0m: 'numpy.ndarray' object has no attribute 'sort_values'"
     ]
    }
   ],
   "source": [
    "top_game('Counter_Strike')"
   ]
  },
  {
   "cell_type": "code",
   "execution_count": 8,
   "metadata": {},
   "outputs": [],
   "source": [
    "def recomendacion_juego(genre):\n",
    "    '''\n",
    "    Muestra una lista de juegos similares a un juego dado.\n",
    "\n",
    "    Args:\n",
    "        game (str): El nombre del juego para el cual se desean encontrar juegos similares.\n",
    "\n",
    "    Returns:\n",
    "        None: Un diccionario con 5 nombres de juegos recomendados.\n",
    "\n",
    "    '''\n",
    "    # Obtener la lista de juegos similares ordenados\n",
    "    similar_games = similitudes.sort_values(by=genre, ascending=False).iloc[1:6]\n",
    "\n",
    "    count = 1\n",
    "    contador = 1\n",
    "    recomendaciones = {}\n",
    "    \n",
    "    for item in similar_games:\n",
    "        if contador <= 5:\n",
    "            item = str(item)\n",
    "            recomendaciones[count] = item\n",
    "            count += 1\n",
    "            contador += 1 \n",
    "        else:\n",
    "            break\n",
    "    return recomendaciones"
   ]
  },
  {
   "cell_type": "code",
   "execution_count": 10,
   "metadata": {},
   "outputs": [
    {
     "ename": "AttributeError",
     "evalue": "'numpy.ndarray' object has no attribute 'sort_values'",
     "output_type": "error",
     "traceback": [
      "\u001b[1;31m---------------------------------------------------------------------------\u001b[0m",
      "\u001b[1;31mAttributeError\u001b[0m                            Traceback (most recent call last)",
      "\u001b[1;32me:\\JIME\\Desktop\\PI_1-MLOps_Juegos_Steam\\Modelado ML.ipynb Celda 14\u001b[0m line \u001b[0;36m1\n\u001b[1;32m----> <a href='vscode-notebook-cell:/e%3A/JIME/Desktop/PI_1-MLOps_Juegos_Steam/Modelado%20ML.ipynb#X16sZmlsZQ%3D%3D?line=0'>1</a>\u001b[0m recomendacion_juego(\u001b[39m\"\u001b[39;49m\u001b[39mgenre_Adentures\u001b[39;49m\u001b[39m\"\u001b[39;49m)\n",
      "\u001b[1;32me:\\JIME\\Desktop\\PI_1-MLOps_Juegos_Steam\\Modelado ML.ipynb Celda 14\u001b[0m line \u001b[0;36m1\n\u001b[0;32m      <a href='vscode-notebook-cell:/e%3A/JIME/Desktop/PI_1-MLOps_Juegos_Steam/Modelado%20ML.ipynb#X16sZmlsZQ%3D%3D?line=1'>2</a>\u001b[0m \u001b[39m\u001b[39m\u001b[39m'''\u001b[39;00m\n\u001b[0;32m      <a href='vscode-notebook-cell:/e%3A/JIME/Desktop/PI_1-MLOps_Juegos_Steam/Modelado%20ML.ipynb#X16sZmlsZQ%3D%3D?line=2'>3</a>\u001b[0m \u001b[39mMuestra una lista de juegos similares a un juego dado.\u001b[39;00m\n\u001b[0;32m      <a href='vscode-notebook-cell:/e%3A/JIME/Desktop/PI_1-MLOps_Juegos_Steam/Modelado%20ML.ipynb#X16sZmlsZQ%3D%3D?line=3'>4</a>\u001b[0m \n\u001b[1;32m   (...)\u001b[0m\n\u001b[0;32m     <a href='vscode-notebook-cell:/e%3A/JIME/Desktop/PI_1-MLOps_Juegos_Steam/Modelado%20ML.ipynb#X16sZmlsZQ%3D%3D?line=9'>10</a>\u001b[0m \n\u001b[0;32m     <a href='vscode-notebook-cell:/e%3A/JIME/Desktop/PI_1-MLOps_Juegos_Steam/Modelado%20ML.ipynb#X16sZmlsZQ%3D%3D?line=10'>11</a>\u001b[0m \u001b[39m'''\u001b[39;00m\n\u001b[0;32m     <a href='vscode-notebook-cell:/e%3A/JIME/Desktop/PI_1-MLOps_Juegos_Steam/Modelado%20ML.ipynb#X16sZmlsZQ%3D%3D?line=11'>12</a>\u001b[0m \u001b[39m# Obtener la lista de juegos similares ordenados\u001b[39;00m\n\u001b[1;32m---> <a href='vscode-notebook-cell:/e%3A/JIME/Desktop/PI_1-MLOps_Juegos_Steam/Modelado%20ML.ipynb#X16sZmlsZQ%3D%3D?line=12'>13</a>\u001b[0m similar_games \u001b[39m=\u001b[39m similitudes\u001b[39m.\u001b[39;49msort_values(by\u001b[39m=\u001b[39mgenre, ascending\u001b[39m=\u001b[39m\u001b[39mFalse\u001b[39;00m)\u001b[39m.\u001b[39miloc[\u001b[39m1\u001b[39m:\u001b[39m6\u001b[39m]\n\u001b[0;32m     <a href='vscode-notebook-cell:/e%3A/JIME/Desktop/PI_1-MLOps_Juegos_Steam/Modelado%20ML.ipynb#X16sZmlsZQ%3D%3D?line=14'>15</a>\u001b[0m count \u001b[39m=\u001b[39m \u001b[39m1\u001b[39m\n\u001b[0;32m     <a href='vscode-notebook-cell:/e%3A/JIME/Desktop/PI_1-MLOps_Juegos_Steam/Modelado%20ML.ipynb#X16sZmlsZQ%3D%3D?line=15'>16</a>\u001b[0m contador \u001b[39m=\u001b[39m \u001b[39m1\u001b[39m\n",
      "\u001b[1;31mAttributeError\u001b[0m: 'numpy.ndarray' object has no attribute 'sort_values'"
     ]
    }
   ],
   "source": [
    "recomendacion_juego(\"genre_Adentures\")"
   ]
  }
 ],
 "metadata": {
  "kernelspec": {
   "display_name": "env",
   "language": "python",
   "name": "python3"
  },
  "language_info": {
   "codemirror_mode": {
    "name": "ipython",
    "version": 3
   },
   "file_extension": ".py",
   "mimetype": "text/x-python",
   "name": "python",
   "nbconvert_exporter": "python",
   "pygments_lexer": "ipython3",
   "version": "3.11.2"
  },
  "orig_nbformat": 4
 },
 "nbformat": 4,
 "nbformat_minor": 2
}
